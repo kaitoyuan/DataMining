{
 "cells": [
  {
   "cell_type": "code",
   "execution_count": 265,
   "id": "84780693-a0f2-4118-9158-ddc5238a0004",
   "metadata": {},
   "outputs": [],
   "source": [
    "import pandas as pd\n",
    "import numpy as np\n",
    "from sklearn.model_selection import train_test_split\n",
    "import seaborn as sns\n",
    "import statsmodels.formula.api as smf\n",
    "from sklearn.metrics import confusion_matrix, roc_auc_score, mean_squared_error\n",
    "from sklearn import preprocessing\n",
    "\n",
    "import itertools"
   ]
  },
  {
   "cell_type": "code",
   "execution_count": 266,
   "id": "e5c8049e-d090-4ae9-94ff-6507600cfbd1",
   "metadata": {},
   "outputs": [
    {
     "data": {
      "text/html": [
       "<div>\n",
       "<style scoped>\n",
       "    .dataframe tbody tr th:only-of-type {\n",
       "        vertical-align: middle;\n",
       "    }\n",
       "\n",
       "    .dataframe tbody tr th {\n",
       "        vertical-align: top;\n",
       "    }\n",
       "\n",
       "    .dataframe thead th {\n",
       "        text-align: right;\n",
       "    }\n",
       "</style>\n",
       "<table border=\"1\" class=\"dataframe\">\n",
       "  <thead>\n",
       "    <tr style=\"text-align: right;\">\n",
       "      <th></th>\n",
       "      <th>Patient ID</th>\n",
       "      <th>Patient age quantile</th>\n",
       "      <th>SARS-Cov-2 exam result</th>\n",
       "      <th>Patient addmited to regular ward (1=yes, 0=no)</th>\n",
       "      <th>Patient addmited to semi-intensive unit (1=yes, 0=no)</th>\n",
       "      <th>Patient addmited to intensive care unit (1=yes, 0=no)</th>\n",
       "      <th>Hematocrit</th>\n",
       "      <th>Hemoglobin</th>\n",
       "      <th>Platelets</th>\n",
       "      <th>Mean platelet volume</th>\n",
       "      <th>...</th>\n",
       "      <th>Hb saturation (arterial blood gases)</th>\n",
       "      <th>pCO2 (arterial blood gas analysis)</th>\n",
       "      <th>Base excess (arterial blood gas analysis)</th>\n",
       "      <th>pH (arterial blood gas analysis)</th>\n",
       "      <th>Total CO2 (arterial blood gas analysis)</th>\n",
       "      <th>HCO3 (arterial blood gas analysis)</th>\n",
       "      <th>pO2 (arterial blood gas analysis)</th>\n",
       "      <th>Arteiral Fio2</th>\n",
       "      <th>Phosphor</th>\n",
       "      <th>ctO2 (arterial blood gas analysis)</th>\n",
       "    </tr>\n",
       "  </thead>\n",
       "  <tbody>\n",
       "    <tr>\n",
       "      <th>0</th>\n",
       "      <td>44477f75e8169d2</td>\n",
       "      <td>13</td>\n",
       "      <td>negative</td>\n",
       "      <td>0</td>\n",
       "      <td>0</td>\n",
       "      <td>0</td>\n",
       "      <td>NaN</td>\n",
       "      <td>NaN</td>\n",
       "      <td>NaN</td>\n",
       "      <td>NaN</td>\n",
       "      <td>...</td>\n",
       "      <td>NaN</td>\n",
       "      <td>NaN</td>\n",
       "      <td>NaN</td>\n",
       "      <td>NaN</td>\n",
       "      <td>NaN</td>\n",
       "      <td>NaN</td>\n",
       "      <td>NaN</td>\n",
       "      <td>NaN</td>\n",
       "      <td>NaN</td>\n",
       "      <td>NaN</td>\n",
       "    </tr>\n",
       "    <tr>\n",
       "      <th>1</th>\n",
       "      <td>126e9dd13932f68</td>\n",
       "      <td>17</td>\n",
       "      <td>negative</td>\n",
       "      <td>0</td>\n",
       "      <td>0</td>\n",
       "      <td>0</td>\n",
       "      <td>0.236515</td>\n",
       "      <td>-0.02234</td>\n",
       "      <td>-0.517413</td>\n",
       "      <td>0.010677</td>\n",
       "      <td>...</td>\n",
       "      <td>NaN</td>\n",
       "      <td>NaN</td>\n",
       "      <td>NaN</td>\n",
       "      <td>NaN</td>\n",
       "      <td>NaN</td>\n",
       "      <td>NaN</td>\n",
       "      <td>NaN</td>\n",
       "      <td>NaN</td>\n",
       "      <td>NaN</td>\n",
       "      <td>NaN</td>\n",
       "    </tr>\n",
       "    <tr>\n",
       "      <th>2</th>\n",
       "      <td>a46b4402a0e5696</td>\n",
       "      <td>8</td>\n",
       "      <td>negative</td>\n",
       "      <td>0</td>\n",
       "      <td>0</td>\n",
       "      <td>0</td>\n",
       "      <td>NaN</td>\n",
       "      <td>NaN</td>\n",
       "      <td>NaN</td>\n",
       "      <td>NaN</td>\n",
       "      <td>...</td>\n",
       "      <td>NaN</td>\n",
       "      <td>NaN</td>\n",
       "      <td>NaN</td>\n",
       "      <td>NaN</td>\n",
       "      <td>NaN</td>\n",
       "      <td>NaN</td>\n",
       "      <td>NaN</td>\n",
       "      <td>NaN</td>\n",
       "      <td>NaN</td>\n",
       "      <td>NaN</td>\n",
       "    </tr>\n",
       "    <tr>\n",
       "      <th>3</th>\n",
       "      <td>f7d619a94f97c45</td>\n",
       "      <td>5</td>\n",
       "      <td>negative</td>\n",
       "      <td>0</td>\n",
       "      <td>0</td>\n",
       "      <td>0</td>\n",
       "      <td>NaN</td>\n",
       "      <td>NaN</td>\n",
       "      <td>NaN</td>\n",
       "      <td>NaN</td>\n",
       "      <td>...</td>\n",
       "      <td>NaN</td>\n",
       "      <td>NaN</td>\n",
       "      <td>NaN</td>\n",
       "      <td>NaN</td>\n",
       "      <td>NaN</td>\n",
       "      <td>NaN</td>\n",
       "      <td>NaN</td>\n",
       "      <td>NaN</td>\n",
       "      <td>NaN</td>\n",
       "      <td>NaN</td>\n",
       "    </tr>\n",
       "    <tr>\n",
       "      <th>4</th>\n",
       "      <td>d9e41465789c2b5</td>\n",
       "      <td>15</td>\n",
       "      <td>negative</td>\n",
       "      <td>0</td>\n",
       "      <td>0</td>\n",
       "      <td>0</td>\n",
       "      <td>NaN</td>\n",
       "      <td>NaN</td>\n",
       "      <td>NaN</td>\n",
       "      <td>NaN</td>\n",
       "      <td>...</td>\n",
       "      <td>NaN</td>\n",
       "      <td>NaN</td>\n",
       "      <td>NaN</td>\n",
       "      <td>NaN</td>\n",
       "      <td>NaN</td>\n",
       "      <td>NaN</td>\n",
       "      <td>NaN</td>\n",
       "      <td>NaN</td>\n",
       "      <td>NaN</td>\n",
       "      <td>NaN</td>\n",
       "    </tr>\n",
       "  </tbody>\n",
       "</table>\n",
       "<p>5 rows × 111 columns</p>\n",
       "</div>"
      ],
      "text/plain": [
       "        Patient ID  Patient age quantile SARS-Cov-2 exam result  \\\n",
       "0  44477f75e8169d2                    13               negative   \n",
       "1  126e9dd13932f68                    17               negative   \n",
       "2  a46b4402a0e5696                     8               negative   \n",
       "3  f7d619a94f97c45                     5               negative   \n",
       "4  d9e41465789c2b5                    15               negative   \n",
       "\n",
       "   Patient addmited to regular ward (1=yes, 0=no)  \\\n",
       "0                                               0   \n",
       "1                                               0   \n",
       "2                                               0   \n",
       "3                                               0   \n",
       "4                                               0   \n",
       "\n",
       "   Patient addmited to semi-intensive unit (1=yes, 0=no)  \\\n",
       "0                                                  0       \n",
       "1                                                  0       \n",
       "2                                                  0       \n",
       "3                                                  0       \n",
       "4                                                  0       \n",
       "\n",
       "   Patient addmited to intensive care unit (1=yes, 0=no)  Hematocrit  \\\n",
       "0                                                  0             NaN   \n",
       "1                                                  0        0.236515   \n",
       "2                                                  0             NaN   \n",
       "3                                                  0             NaN   \n",
       "4                                                  0             NaN   \n",
       "\n",
       "   Hemoglobin  Platelets  Mean platelet volume   ...  \\\n",
       "0         NaN        NaN                    NaN  ...   \n",
       "1    -0.02234  -0.517413               0.010677  ...   \n",
       "2         NaN        NaN                    NaN  ...   \n",
       "3         NaN        NaN                    NaN  ...   \n",
       "4         NaN        NaN                    NaN  ...   \n",
       "\n",
       "   Hb saturation (arterial blood gases)  pCO2 (arterial blood gas analysis)  \\\n",
       "0                                   NaN                                 NaN   \n",
       "1                                   NaN                                 NaN   \n",
       "2                                   NaN                                 NaN   \n",
       "3                                   NaN                                 NaN   \n",
       "4                                   NaN                                 NaN   \n",
       "\n",
       "   Base excess (arterial blood gas analysis)  \\\n",
       "0                                        NaN   \n",
       "1                                        NaN   \n",
       "2                                        NaN   \n",
       "3                                        NaN   \n",
       "4                                        NaN   \n",
       "\n",
       "   pH (arterial blood gas analysis)  Total CO2 (arterial blood gas analysis)  \\\n",
       "0                               NaN                                      NaN   \n",
       "1                               NaN                                      NaN   \n",
       "2                               NaN                                      NaN   \n",
       "3                               NaN                                      NaN   \n",
       "4                               NaN                                      NaN   \n",
       "\n",
       "   HCO3 (arterial blood gas analysis)  pO2 (arterial blood gas analysis)  \\\n",
       "0                                 NaN                                NaN   \n",
       "1                                 NaN                                NaN   \n",
       "2                                 NaN                                NaN   \n",
       "3                                 NaN                                NaN   \n",
       "4                                 NaN                                NaN   \n",
       "\n",
       "   Arteiral Fio2  Phosphor  ctO2 (arterial blood gas analysis)  \n",
       "0            NaN       NaN                                 NaN  \n",
       "1            NaN       NaN                                 NaN  \n",
       "2            NaN       NaN                                 NaN  \n",
       "3            NaN       NaN                                 NaN  \n",
       "4            NaN       NaN                                 NaN  \n",
       "\n",
       "[5 rows x 111 columns]"
      ]
     },
     "execution_count": 266,
     "metadata": {},
     "output_type": "execute_result"
    }
   ],
   "source": [
    "df = pd.read_csv(\"dataset.csv\")\n",
    "df.head()"
   ]
  },
  {
   "cell_type": "code",
   "execution_count": 267,
   "id": "58495d0c-931b-43db-b2ff-397ba95d07fa",
   "metadata": {},
   "outputs": [
    {
     "data": {
      "text/plain": [
       "(5644, 111)"
      ]
     },
     "execution_count": 267,
     "metadata": {},
     "output_type": "execute_result"
    }
   ],
   "source": [
    "df.shape"
   ]
  },
  {
   "cell_type": "code",
   "execution_count": 268,
   "id": "42766884-39dd-46ea-843f-81c2927d6be9",
   "metadata": {},
   "outputs": [
    {
     "data": {
      "text/plain": [
       "array([   0,    0,    0,    0,    0,    0, 5041, 5041, 5042, 5045, 5042,\n",
       "       5042, 5042, 5042, 5042, 5042, 5042, 5042, 5043, 5042, 5436, 4290,\n",
       "       4290, 4290, 4292, 4292, 4292, 5644, 4292, 4292, 4292, 4292, 4292,\n",
       "       4292, 4292, 4292, 4292, 4292, 4292, 5131, 5247, 5138, 5220, 5273,\n",
       "       5274, 4824, 4824, 5419, 5418, 5491, 5462, 5462, 5462, 5500, 5594,\n",
       "       5312, 5604, 5508, 5508, 5508, 5508, 5643, 5508, 5508, 5508, 5547,\n",
       "       5547, 5547, 5547, 5547, 5547, 5584, 5574, 5574, 5574, 5574, 5587,\n",
       "       5643, 5574, 5575, 5584, 5644, 5574, 5574, 5574, 5577, 5575, 5574,\n",
       "       5574, 5644, 5553, 5511, 5543, 5644, 5641, 5540, 5621, 5617, 5636,\n",
       "       5644, 5631, 5617, 5617, 5617, 5617, 5617, 5617, 5617, 5624, 5624,\n",
       "       5617])"
      ]
     },
     "execution_count": 268,
     "metadata": {},
     "output_type": "execute_result"
    }
   ],
   "source": [
    "np.array(df.isnull().sum())"
   ]
  },
  {
   "cell_type": "code",
   "execution_count": 269,
   "id": "e6e070b2-bd37-4687-955c-7cc1419b2fa1",
   "metadata": {},
   "outputs": [
    {
     "data": {
      "text/plain": [
       "0    0.901134\n",
       "1    0.098866\n",
       "Name: SARS-Cov-2 exam result, dtype: float64"
      ]
     },
     "execution_count": 269,
     "metadata": {},
     "output_type": "execute_result"
    }
   ],
   "source": [
    "df['SARS-Cov-2 exam result'] = df['SARS-Cov-2 exam result'].map({'positive': 1, 'negative': 0})\n",
    "df = df.replace({'positive': 1, 'negative': 0, 'detected': 1, 'not_detected': 0})\n",
    "df['SARS-Cov-2 exam result'].value_counts(normalize=True)"
   ]
  },
  {
   "cell_type": "code",
   "execution_count": 393,
   "id": "2d438029-9c80-4cad-87ce-a9c9f01fdd74",
   "metadata": {},
   "outputs": [
    {
     "name": "stdout",
     "output_type": "stream",
     "text": [
      "Patient ID                                                0.00\n",
      "Patient age quantile                                      0.00\n",
      "SARS-Cov-2 exam result                                    0.00\n",
      "Patient addmited to regular ward (1=yes, 0=no)            0.00\n",
      "Patient addmited to semi-intensive unit (1=yes, 0=no)     0.00\n",
      "Patient addmited to intensive care unit (1=yes, 0=no)     0.00\n",
      "Hematocrit                                               89.32\n",
      "Hemoglobin                                               89.32\n",
      "Platelets                                                89.33\n",
      "Mean platelet volume                                     89.39\n",
      "Red blood Cells                                          89.33\n",
      "Lymphocytes                                              89.33\n",
      "Mean corpuscular hemoglobin concentration (MCHC)         89.33\n",
      "Leukocytes                                               89.33\n",
      "Basophils                                                89.33\n",
      "Mean corpuscular hemoglobin (MCH)                        89.33\n",
      "Eosinophils                                              89.33\n",
      "Mean corpuscular volume (MCV)                            89.33\n",
      "Monocytes                                                89.35\n",
      "Red blood cell distribution width (RDW)                  89.33\n",
      "Respiratory Syncytial Virus                               0.00\n",
      "Influenza A                                               0.00\n",
      "Influenza B                                               0.00\n",
      "Parainfluenza 1                                           0.00\n",
      "CoronavirusNL63                                           0.00\n",
      "Rhinovirus/Enterovirus                                    0.00\n",
      "Coronavirus HKU1                                          0.00\n",
      "Parainfluenza 3                                           0.00\n",
      "Chlamydophila pneumoniae                                  0.00\n",
      "Adenovirus                                                0.00\n",
      "Parainfluenza 4                                           0.00\n",
      "Coronavirus229E                                           0.00\n",
      "CoronavirusOC43                                           0.00\n",
      "Inf A H1N1 2009                                           0.00\n",
      "Bordetella pertussis                                      0.00\n",
      "Metapneumovirus                                           0.00\n",
      "Influenza B, rapid test                                   0.00\n",
      "Influenza A, rapid test                                   0.00\n",
      "detected                                                  0.00\n",
      "dtype: float64\n"
     ]
    }
   ],
   "source": [
    "df_null_pct = df.isna().mean().round(4)*100\n",
    "print(df_null_pct)\n",
    "# df_null_pct.sort_values(ascending=False)"
   ]
  },
  {
   "cell_type": "code",
   "execution_count": 271,
   "id": "d47d98de-2984-47b0-8c7c-8a9cb0fd6dfc",
   "metadata": {},
   "outputs": [
    {
     "data": {
      "text/plain": [
       "<AxesSubplot:ylabel='Frequency'>"
      ]
     },
     "execution_count": 271,
     "metadata": {},
     "output_type": "execute_result"
    },
    {
     "data": {
      "image/png": "[encoded data removed]",
      "text/plain": [
       "<Figure size 432x288 with 1 Axes>"
      ]
     },
     "metadata": {
      "needs_background": "light"
     },
     "output_type": "display_data"
    }
   ],
   "source": [
    "df_null_pct.plot(kind='hist')"
   ]
  },
  {
   "cell_type": "code",
   "execution_count": 392,
   "id": "e7e9d67d-7a74-400c-9f70-993ed370b282",
   "metadata": {},
   "outputs": [
    {
     "data": {
      "text/plain": [
       "Patient_age_quantile                              False\n",
       "SARS_Cov_2_exam_result                            False\n",
       "Patient_addmited_to_regular_ward                  False\n",
       "Patient_addmited_to_semi_intensive_unit           False\n",
       "Patient_addmited_to_intensive_care_unit           False\n",
       "Hematocrit                                        False\n",
       "Hemoglobin                                        False\n",
       "Platelets                                         False\n",
       "Mean_platelet_volume                              False\n",
       "Red_blood_Cells                                   False\n",
       "Lymphocytes                                       False\n",
       "Mean_corpuscular_hemoglobin_concentration_MCHC    False\n",
       "Leukocytes                                        False\n",
       "Basophils                                         False\n",
       "Mean_corpuscular_hemoglobin_MCH                   False\n",
       "Eosinophils                                       False\n",
       "Mean_corpuscular_volume_MCV                       False\n",
       "Monocytes                                         False\n",
       "Red_blood_cell_distribution_width_RDW             False\n",
       "Respiratory_Syncytial_Virus                       False\n",
       "Influenza_A                                       False\n",
       "Influenza_B                                       False\n",
       "Parainfluenza_1                                   False\n",
       "CoronavirusNL63                                   False\n",
       "Rhinovirus_Enterovirus                            False\n",
       "Coronavirus_HKU1                                  False\n",
       "Parainfluenza_3                                   False\n",
       "Chlamydophila_pneumoniae                          False\n",
       "Adenovirus                                        False\n",
       "Parainfluenza_4                                   False\n",
       "Coronavirus229E                                   False\n",
       "CoronavirusOC43                                   False\n",
       "Inf_A_H1N1_2009                                   False\n",
       "Bordetella_pertussis                              False\n",
       "Metapneumovirus                                   False\n",
       "Influenza_B_rapid_test                            False\n",
       "Influenza_A_rapid_test                            False\n",
       "detected                                          False\n",
       "dtype: bool"
      ]
     },
     "execution_count": 392,
     "metadata": {},
     "output_type": "execute_result"
    }
   ],
   "source": [
    "df_null_pct > 90"
   ]
  },
  {
   "cell_type": "code",
   "execution_count": 272,
   "id": "8d9b73db-1882-4848-927b-c822cbe0f926",
   "metadata": {},
   "outputs": [
    {
     "data": {
      "text/html": [
       "<div>\n",
       "<style scoped>\n",
       "    .dataframe tbody tr th:only-of-type {\n",
       "        vertical-align: middle;\n",
       "    }\n",
       "\n",
       "    .dataframe tbody tr th {\n",
       "        vertical-align: top;\n",
       "    }\n",
       "\n",
       "    .dataframe thead th {\n",
       "        text-align: right;\n",
       "    }\n",
       "</style>\n",
       "<table border=\"1\" class=\"dataframe\">\n",
       "  <thead>\n",
       "    <tr style=\"text-align: right;\">\n",
       "      <th></th>\n",
       "      <th>Patient ID</th>\n",
       "      <th>Patient age quantile</th>\n",
       "      <th>SARS-Cov-2 exam result</th>\n",
       "      <th>Patient addmited to regular ward (1=yes, 0=no)</th>\n",
       "      <th>Patient addmited to semi-intensive unit (1=yes, 0=no)</th>\n",
       "      <th>Patient addmited to intensive care unit (1=yes, 0=no)</th>\n",
       "      <th>Hematocrit</th>\n",
       "      <th>Hemoglobin</th>\n",
       "      <th>Platelets</th>\n",
       "      <th>Mean platelet volume</th>\n",
       "      <th>...</th>\n",
       "      <th>Adenovirus</th>\n",
       "      <th>Parainfluenza 4</th>\n",
       "      <th>Coronavirus229E</th>\n",
       "      <th>CoronavirusOC43</th>\n",
       "      <th>Inf A H1N1 2009</th>\n",
       "      <th>Bordetella pertussis</th>\n",
       "      <th>Metapneumovirus</th>\n",
       "      <th>Parainfluenza 2</th>\n",
       "      <th>Influenza B, rapid test</th>\n",
       "      <th>Influenza A, rapid test</th>\n",
       "    </tr>\n",
       "  </thead>\n",
       "  <tbody>\n",
       "    <tr>\n",
       "      <th>0</th>\n",
       "      <td>44477f75e8169d2</td>\n",
       "      <td>13</td>\n",
       "      <td>0</td>\n",
       "      <td>0</td>\n",
       "      <td>0</td>\n",
       "      <td>0</td>\n",
       "      <td>NaN</td>\n",
       "      <td>NaN</td>\n",
       "      <td>NaN</td>\n",
       "      <td>NaN</td>\n",
       "      <td>...</td>\n",
       "      <td>NaN</td>\n",
       "      <td>NaN</td>\n",
       "      <td>NaN</td>\n",
       "      <td>NaN</td>\n",
       "      <td>NaN</td>\n",
       "      <td>NaN</td>\n",
       "      <td>NaN</td>\n",
       "      <td>NaN</td>\n",
       "      <td>NaN</td>\n",
       "      <td>NaN</td>\n",
       "    </tr>\n",
       "    <tr>\n",
       "      <th>1</th>\n",
       "      <td>126e9dd13932f68</td>\n",
       "      <td>17</td>\n",
       "      <td>0</td>\n",
       "      <td>0</td>\n",
       "      <td>0</td>\n",
       "      <td>0</td>\n",
       "      <td>0.236515</td>\n",
       "      <td>-0.02234</td>\n",
       "      <td>-0.517413</td>\n",
       "      <td>0.010677</td>\n",
       "      <td>...</td>\n",
       "      <td>0.0</td>\n",
       "      <td>0.0</td>\n",
       "      <td>0.0</td>\n",
       "      <td>0.0</td>\n",
       "      <td>0.0</td>\n",
       "      <td>0.0</td>\n",
       "      <td>0.0</td>\n",
       "      <td>0.0</td>\n",
       "      <td>0.0</td>\n",
       "      <td>0.0</td>\n",
       "    </tr>\n",
       "    <tr>\n",
       "      <th>2</th>\n",
       "      <td>a46b4402a0e5696</td>\n",
       "      <td>8</td>\n",
       "      <td>0</td>\n",
       "      <td>0</td>\n",
       "      <td>0</td>\n",
       "      <td>0</td>\n",
       "      <td>NaN</td>\n",
       "      <td>NaN</td>\n",
       "      <td>NaN</td>\n",
       "      <td>NaN</td>\n",
       "      <td>...</td>\n",
       "      <td>NaN</td>\n",
       "      <td>NaN</td>\n",
       "      <td>NaN</td>\n",
       "      <td>NaN</td>\n",
       "      <td>NaN</td>\n",
       "      <td>NaN</td>\n",
       "      <td>NaN</td>\n",
       "      <td>NaN</td>\n",
       "      <td>NaN</td>\n",
       "      <td>NaN</td>\n",
       "    </tr>\n",
       "    <tr>\n",
       "      <th>3</th>\n",
       "      <td>f7d619a94f97c45</td>\n",
       "      <td>5</td>\n",
       "      <td>0</td>\n",
       "      <td>0</td>\n",
       "      <td>0</td>\n",
       "      <td>0</td>\n",
       "      <td>NaN</td>\n",
       "      <td>NaN</td>\n",
       "      <td>NaN</td>\n",
       "      <td>NaN</td>\n",
       "      <td>...</td>\n",
       "      <td>NaN</td>\n",
       "      <td>NaN</td>\n",
       "      <td>NaN</td>\n",
       "      <td>NaN</td>\n",
       "      <td>NaN</td>\n",
       "      <td>NaN</td>\n",
       "      <td>NaN</td>\n",
       "      <td>NaN</td>\n",
       "      <td>NaN</td>\n",
       "      <td>NaN</td>\n",
       "    </tr>\n",
       "    <tr>\n",
       "      <th>4</th>\n",
       "      <td>d9e41465789c2b5</td>\n",
       "      <td>15</td>\n",
       "      <td>0</td>\n",
       "      <td>0</td>\n",
       "      <td>0</td>\n",
       "      <td>0</td>\n",
       "      <td>NaN</td>\n",
       "      <td>NaN</td>\n",
       "      <td>NaN</td>\n",
       "      <td>NaN</td>\n",
       "      <td>...</td>\n",
       "      <td>0.0</td>\n",
       "      <td>0.0</td>\n",
       "      <td>0.0</td>\n",
       "      <td>0.0</td>\n",
       "      <td>0.0</td>\n",
       "      <td>0.0</td>\n",
       "      <td>0.0</td>\n",
       "      <td>0.0</td>\n",
       "      <td>NaN</td>\n",
       "      <td>NaN</td>\n",
       "    </tr>\n",
       "  </tbody>\n",
       "</table>\n",
       "<p>5 rows × 39 columns</p>\n",
       "</div>"
      ],
      "text/plain": [
       "        Patient ID  Patient age quantile  SARS-Cov-2 exam result  \\\n",
       "0  44477f75e8169d2                    13                       0   \n",
       "1  126e9dd13932f68                    17                       0   \n",
       "2  a46b4402a0e5696                     8                       0   \n",
       "3  f7d619a94f97c45                     5                       0   \n",
       "4  d9e41465789c2b5                    15                       0   \n",
       "\n",
       "   Patient addmited to regular ward (1=yes, 0=no)  \\\n",
       "0                                               0   \n",
       "1                                               0   \n",
       "2                                               0   \n",
       "3                                               0   \n",
       "4                                               0   \n",
       "\n",
       "   Patient addmited to semi-intensive unit (1=yes, 0=no)  \\\n",
       "0                                                  0       \n",
       "1                                                  0       \n",
       "2                                                  0       \n",
       "3                                                  0       \n",
       "4                                                  0       \n",
       "\n",
       "   Patient addmited to intensive care unit (1=yes, 0=no)  Hematocrit  \\\n",
       "0                                                  0             NaN   \n",
       "1                                                  0        0.236515   \n",
       "2                                                  0             NaN   \n",
       "3                                                  0             NaN   \n",
       "4                                                  0             NaN   \n",
       "\n",
       "   Hemoglobin  Platelets  Mean platelet volume   ...  Adenovirus  \\\n",
       "0         NaN        NaN                    NaN  ...         NaN   \n",
       "1    -0.02234  -0.517413               0.010677  ...         0.0   \n",
       "2         NaN        NaN                    NaN  ...         NaN   \n",
       "3         NaN        NaN                    NaN  ...         NaN   \n",
       "4         NaN        NaN                    NaN  ...         0.0   \n",
       "\n",
       "   Parainfluenza 4  Coronavirus229E  CoronavirusOC43  Inf A H1N1 2009  \\\n",
       "0              NaN              NaN              NaN              NaN   \n",
       "1              0.0              0.0              0.0              0.0   \n",
       "2              NaN              NaN              NaN              NaN   \n",
       "3              NaN              NaN              NaN              NaN   \n",
       "4              0.0              0.0              0.0              0.0   \n",
       "\n",
       "   Bordetella pertussis  Metapneumovirus  Parainfluenza 2  \\\n",
       "0                   NaN              NaN              NaN   \n",
       "1                   0.0              0.0              0.0   \n",
       "2                   NaN              NaN              NaN   \n",
       "3                   NaN              NaN              NaN   \n",
       "4                   0.0              0.0              0.0   \n",
       "\n",
       "   Influenza B, rapid test  Influenza A, rapid test  \n",
       "0                      NaN                      NaN  \n",
       "1                      0.0                      0.0  \n",
       "2                      NaN                      NaN  \n",
       "3                      NaN                      NaN  \n",
       "4                      NaN                      NaN  \n",
       "\n",
       "[5 rows x 39 columns]"
      ]
     },
     "execution_count": 272,
     "metadata": {},
     "output_type": "execute_result"
    }
   ],
   "source": [
    "nulls = df_null_pct[df_null_pct > 90]  #移除>90％空值的欄位\n",
    "df = df[[col for col in df.columns if col not in nulls]]\n",
    "df.head()"
   ]
  },
  {
   "cell_type": "code",
   "execution_count": 273,
   "id": "b81a55ea-4bad-42a3-b08e-a1422835faf2",
   "metadata": {},
   "outputs": [
    {
     "name": "stdout",
     "output_type": "stream",
     "text": [
      "Patient age quantile                                33.384166\n",
      "Hematocrit                                           1.001661\n",
      "Hemoglobin                                           1.001661\n",
      "Platelets                                            1.001664\n",
      "Mean platelet volume                                 1.001672\n",
      "Red blood Cells                                      1.001664\n",
      "Lymphocytes                                          1.001664\n",
      "Mean corpuscular hemoglobin concentration (MCHC)     1.001664\n",
      "Leukocytes                                           1.001664\n",
      "Basophils                                            1.001664\n",
      "Mean corpuscular hemoglobin (MCH)                    1.001664\n",
      "Eosinophils                                          1.001664\n",
      "Mean corpuscular volume (MCV)                        1.001664\n",
      "Monocytes                                            1.001667\n",
      "Red blood cell distribution width (RDW)              1.001664\n",
      "Respiratory Syncytial Virus                          0.036957\n",
      "Influenza A                                          0.013127\n",
      "Influenza B                                          0.053674\n",
      "Parainfluenza 1                                      0.002216\n",
      "CoronavirusNL63                                      0.032200\n",
      "Rhinovirus/Enterovirus                               0.201892\n",
      "Coronavirus HKU1                                     0.014585\n",
      "Parainfluenza 3                                      0.007347\n",
      "Chlamydophila pneumoniae                             0.006617\n",
      "Adenovirus                                           0.009530\n",
      "Parainfluenza 4                                      0.013866\n",
      "Coronavirus229E                                      0.006617\n",
      "CoronavirusOC43                                      0.005887\n",
      "Inf A H1N1 2009                                      0.067281\n",
      "Bordetella pertussis                                 0.001478\n",
      "Metapneumovirus                                      0.010255\n",
      "Parainfluenza 2                                      0.000000\n",
      "Influenza B, rapid test                              0.056254\n",
      "Influenza A, rapid test                              0.059466\n",
      "dtype: float64\n"
     ]
    }
   ],
   "source": [
    "features = [col for col in df.columns if col not in ['Patient ID', \n",
    "                                                    'Patient addmited to regular ward (1=yes, 0=no)',\n",
    "                                                    'Patient addmited to semi-intensive unit (1=yes, 0=no)',\n",
    "                                                    'Patient addmited to intensive care unit (1=yes, 0=no)',\n",
    "                                                    'SARS-Cov-2 exam result']]\n",
    "\n",
    "# pd.set_option('display.max_rows', df[features].shape[0]+1)\n",
    "print(df[features].var())"
   ]
  },
  {
   "cell_type": "code",
   "execution_count": 274,
   "id": "9c48ba55-f843-4779-bff6-0c933dff9375",
   "metadata": {},
   "outputs": [],
   "source": [
    "# 因為Parainfluenza 2 變異數是0，沒有價值故刪除\n",
    "df.drop('Parainfluenza 2', axis=1, inplace=True)\n",
    "features.remove('Parainfluenza 2')"
   ]
  },
  {
   "cell_type": "code",
   "execution_count": 275,
   "id": "730beb15-36b1-4229-bfe8-da4a5ccb2044",
   "metadata": {},
   "outputs": [],
   "source": [
    "df['detected'] = df[df.columns[20:]].sum(axis=1)\n"
   ]
  },
  {
   "cell_type": "code",
   "execution_count": 276,
   "id": "f7483c12-9161-4c57-b01a-82fa0ea18d5b",
   "metadata": {},
   "outputs": [
    {
     "data": {
      "text/plain": [
       "0.0    0.865344\n",
       "1.0    0.134656\n",
       "Name: detected, dtype: float64"
      ]
     },
     "execution_count": 276,
     "metadata": {},
     "output_type": "execute_result"
    }
   ],
   "source": [
    "df.loc[df['detected']>1, 'detected'] = 1\n",
    "df['detected'].value_counts(normalize=True)"
   ]
  },
  {
   "cell_type": "code",
   "execution_count": 277,
   "id": "0279fde4-0426-450f-8e43-48df282fc603",
   "metadata": {},
   "outputs": [
    {
     "data": {
      "text/plain": [
       "0    0.981579\n",
       "1    0.018421\n",
       "Name: SARS-Cov-2 exam result, dtype: float64"
      ]
     },
     "execution_count": 277,
     "metadata": {},
     "output_type": "execute_result"
    }
   ],
   "source": [
    "df[df['detected']==1].iloc[:,2].value_counts(normalize=True) # 與paper的結論一致，感染了其他疾病的人，通常感染covid的可能性很低"
   ]
  },
  {
   "cell_type": "code",
   "execution_count": 278,
   "id": "564a7e88-5c95-4bbb-98a4-d94b8dc9f913",
   "metadata": {},
   "outputs": [
    {
     "name": "stdout",
     "output_type": "stream",
     "text": [
      "0    0.888616\n",
      "1    0.111384\n",
      "Name: SARS-Cov-2 exam result, dtype: float64\n",
      "0    0.901134\n",
      "1    0.098866\n",
      "Name: SARS-Cov-2 exam result, dtype: float64\n"
     ]
    }
   ],
   "source": [
    "print(df[df['detected']==0].iloc[:,2].value_counts(normalize=True)) #沒有檢測出其他疾病的人，檢測出covid的機率跟整個資料集的檢測分布一樣\n",
    "print(df.iloc[:,2].value_counts(normalize=True))"
   ]
  },
  {
   "cell_type": "code",
   "execution_count": 279,
   "id": "b15e3bf0-3db8-480f-a601-6ff3b74e6a2c",
   "metadata": {},
   "outputs": [],
   "source": [
    "df_clean = df.copy()\n",
    "\n",
    "df[df.columns[20:]] = df[df.columns[20:]].fillna(0)"
   ]
  },
  {
   "cell_type": "code",
   "execution_count": 280,
   "id": "16983bd9-13a3-4185-9457-f75b20680901",
   "metadata": {},
   "outputs": [
    {
     "data": {
      "text/plain": [
       "Mean platelet volume                                     89.39\n",
       "Monocytes                                                89.35\n",
       "Red blood cell distribution width (RDW)                  89.33\n",
       "Eosinophils                                              89.33\n",
       "Mean corpuscular hemoglobin (MCH)                        89.33\n",
       "Basophils                                                89.33\n",
       "Leukocytes                                               89.33\n",
       "Mean corpuscular hemoglobin concentration (MCHC)         89.33\n",
       "Lymphocytes                                              89.33\n",
       "Red blood Cells                                          89.33\n",
       "Platelets                                                89.33\n",
       "Mean corpuscular volume (MCV)                            89.33\n",
       "Hemoglobin                                               89.32\n",
       "Hematocrit                                               89.32\n",
       "Patient addmited to intensive care unit (1=yes, 0=no)     0.00\n",
       "Patient addmited to semi-intensive unit (1=yes, 0=no)     0.00\n",
       "Patient addmited to regular ward (1=yes, 0=no)            0.00\n",
       "SARS-Cov-2 exam result                                    0.00\n",
       "Patient age quantile                                      0.00\n",
       "detected                                                  0.00\n",
       "Influenza A, rapid test                                   0.00\n",
       "Adenovirus                                                0.00\n",
       "Influenza B, rapid test                                   0.00\n",
       "Metapneumovirus                                           0.00\n",
       "Bordetella pertussis                                      0.00\n",
       "Inf A H1N1 2009                                           0.00\n",
       "CoronavirusOC43                                           0.00\n",
       "Coronavirus229E                                           0.00\n",
       "Parainfluenza 4                                           0.00\n",
       "Chlamydophila pneumoniae                                  0.00\n",
       "Respiratory Syncytial Virus                               0.00\n",
       "Parainfluenza 3                                           0.00\n",
       "Coronavirus HKU1                                          0.00\n",
       "Rhinovirus/Enterovirus                                    0.00\n",
       "CoronavirusNL63                                           0.00\n",
       "Parainfluenza 1                                           0.00\n",
       "Influenza B                                               0.00\n",
       "Influenza A                                               0.00\n",
       "Patient ID                                                0.00\n",
       "dtype: float64"
      ]
     },
     "execution_count": 280,
     "metadata": {},
     "output_type": "execute_result"
    }
   ],
   "source": [
    "df_null_pct = df.isna().mean().round(4)*100\n",
    "df_null_pct.sort_values(ascending=False)"
   ]
  },
  {
   "cell_type": "code",
   "execution_count": 281,
   "id": "24f40fe3-26f0-4875-9716-82bee75e214b",
   "metadata": {},
   "outputs": [
    {
     "data": {
      "text/plain": [
       "<AxesSubplot:>"
      ]
     },
     "execution_count": 281,
     "metadata": {},
     "output_type": "execute_result"
    },
    {
     "data": {
      "image/png": "[encoded data removed]",
      "text/plain": [
       "<Figure size 432x288 with 2 Axes>"
      ]
     },
     "metadata": {
      "needs_background": "light"
     },
     "output_type": "display_data"
    }
   ],
   "source": [
    "sns.heatmap(df.corr())"
   ]
  },
  {
   "cell_type": "markdown",
   "id": "e2423424-85a8-4ce1-8970-5ab00d00bd24",
   "metadata": {},
   "source": [
    "## imputation(using missForest(R))"
   ]
  },
  {
   "cell_type": "code",
   "execution_count": 282,
   "id": "373ace73-1ae4-4c37-8703-a87a427ae1b5",
   "metadata": {},
   "outputs": [],
   "source": [
    "df.to_csv(r'dataset_has_null.csv', index = False)"
   ]
  },
  {
   "cell_type": "code",
   "execution_count": 283,
   "id": "3ff510b2-a4b4-476c-8a0c-5e47df7e3fb0",
   "metadata": {},
   "outputs": [],
   "source": [
    "df_deal = pd.read_csv(\"done_data.csv\")"
   ]
  },
  {
   "cell_type": "code",
   "execution_count": 284,
   "id": "4ecfda72-33d5-4028-ac18-5c7333ea8a03",
   "metadata": {},
   "outputs": [],
   "source": [
    "# list(df.columns)"
   ]
  },
  {
   "cell_type": "code",
   "execution_count": 285,
   "id": "4df37b7d-c4f6-4215-9f85-3d62e7328895",
   "metadata": {},
   "outputs": [],
   "source": [
    "colNames = [\n",
    " 'Patient_age_quantile',\n",
    " 'SARS_Cov_2_exam_result',\n",
    " 'Patient_addmited_to_regular_ward',\n",
    " 'Patient_addmited_to_semi_intensive_unit',\n",
    " 'Patient_addmited_to_intensive_care_unit',\n",
    " 'Hematocrit',\n",
    " 'Hemoglobin',\n",
    " 'Platelets',\n",
    " 'Mean_platelet_volume',\n",
    " 'Red_blood_Cells',\n",
    " 'Lymphocytes',\n",
    " 'Mean_corpuscular_hemoglobin_concentration_MCHC',\n",
    " 'Leukocytes',\n",
    " 'Basophils',\n",
    " 'Mean_corpuscular_hemoglobin_MCH',\n",
    " 'Eosinophils',\n",
    " 'Mean_corpuscular_volume_MCV',\n",
    " 'Monocytes',\n",
    " 'Red_blood_cell_distribution_width_RDW',\n",
    " 'Respiratory_Syncytial_Virus',\n",
    " 'Influenza_A',\n",
    " 'Influenza_B',\n",
    " 'Parainfluenza_1',\n",
    " 'CoronavirusNL63',\n",
    " 'Rhinovirus_Enterovirus',\n",
    " 'Coronavirus_HKU1',\n",
    " 'Parainfluenza_3',\n",
    " 'Chlamydophila_pneumoniae',\n",
    " 'Adenovirus',\n",
    " 'Parainfluenza_4',\n",
    " 'Coronavirus229E',\n",
    " 'CoronavirusOC43',\n",
    " 'Inf_A_H1N1_2009',\n",
    " 'Bordetella_pertussis',\n",
    " 'Metapneumovirus',\n",
    " 'Influenza_B_rapid_test',\n",
    " 'Influenza_A_rapid_test',\n",
    " 'detected']"
   ]
  },
  {
   "cell_type": "code",
   "execution_count": 286,
   "id": "79480f81-32c2-460b-9d0e-59b9ae23d029",
   "metadata": {},
   "outputs": [
    {
     "data": {
      "text/html": [
       "<div>\n",
       "<style scoped>\n",
       "    .dataframe tbody tr th:only-of-type {\n",
       "        vertical-align: middle;\n",
       "    }\n",
       "\n",
       "    .dataframe tbody tr th {\n",
       "        vertical-align: top;\n",
       "    }\n",
       "\n",
       "    .dataframe thead th {\n",
       "        text-align: right;\n",
       "    }\n",
       "</style>\n",
       "<table border=\"1\" class=\"dataframe\">\n",
       "  <thead>\n",
       "    <tr style=\"text-align: right;\">\n",
       "      <th></th>\n",
       "      <th>Patient_age_quantile</th>\n",
       "      <th>SARS_Cov_2_exam_result</th>\n",
       "      <th>Patient_addmited_to_regular_ward</th>\n",
       "      <th>Patient_addmited_to_semi_intensive_unit</th>\n",
       "      <th>Patient_addmited_to_intensive_care_unit</th>\n",
       "      <th>Hematocrit</th>\n",
       "      <th>Hemoglobin</th>\n",
       "      <th>Platelets</th>\n",
       "      <th>Mean_platelet_volume</th>\n",
       "      <th>Red_blood_Cells</th>\n",
       "      <th>...</th>\n",
       "      <th>Adenovirus</th>\n",
       "      <th>Parainfluenza_4</th>\n",
       "      <th>Coronavirus229E</th>\n",
       "      <th>CoronavirusOC43</th>\n",
       "      <th>Inf_A_H1N1_2009</th>\n",
       "      <th>Bordetella_pertussis</th>\n",
       "      <th>Metapneumovirus</th>\n",
       "      <th>Influenza_B_rapid_test</th>\n",
       "      <th>Influenza_A_rapid_test</th>\n",
       "      <th>detected</th>\n",
       "    </tr>\n",
       "  </thead>\n",
       "  <tbody>\n",
       "    <tr>\n",
       "      <th>0</th>\n",
       "      <td>13</td>\n",
       "      <td>0</td>\n",
       "      <td>0</td>\n",
       "      <td>0</td>\n",
       "      <td>0</td>\n",
       "      <td>0.289773</td>\n",
       "      <td>0.304936</td>\n",
       "      <td>0.115823</td>\n",
       "      <td>-0.029180</td>\n",
       "      <td>0.095453</td>\n",
       "      <td>...</td>\n",
       "      <td>0</td>\n",
       "      <td>0</td>\n",
       "      <td>0</td>\n",
       "      <td>0</td>\n",
       "      <td>0</td>\n",
       "      <td>0</td>\n",
       "      <td>0</td>\n",
       "      <td>0</td>\n",
       "      <td>0</td>\n",
       "      <td>0</td>\n",
       "    </tr>\n",
       "    <tr>\n",
       "      <th>1</th>\n",
       "      <td>17</td>\n",
       "      <td>0</td>\n",
       "      <td>0</td>\n",
       "      <td>0</td>\n",
       "      <td>0</td>\n",
       "      <td>0.236515</td>\n",
       "      <td>-0.022340</td>\n",
       "      <td>-0.517413</td>\n",
       "      <td>0.010677</td>\n",
       "      <td>0.102004</td>\n",
       "      <td>...</td>\n",
       "      <td>0</td>\n",
       "      <td>0</td>\n",
       "      <td>0</td>\n",
       "      <td>0</td>\n",
       "      <td>0</td>\n",
       "      <td>0</td>\n",
       "      <td>0</td>\n",
       "      <td>0</td>\n",
       "      <td>0</td>\n",
       "      <td>1</td>\n",
       "    </tr>\n",
       "    <tr>\n",
       "      <th>2</th>\n",
       "      <td>8</td>\n",
       "      <td>0</td>\n",
       "      <td>0</td>\n",
       "      <td>0</td>\n",
       "      <td>0</td>\n",
       "      <td>0.250851</td>\n",
       "      <td>0.280500</td>\n",
       "      <td>0.073719</td>\n",
       "      <td>-0.000680</td>\n",
       "      <td>0.086184</td>\n",
       "      <td>...</td>\n",
       "      <td>0</td>\n",
       "      <td>0</td>\n",
       "      <td>0</td>\n",
       "      <td>0</td>\n",
       "      <td>0</td>\n",
       "      <td>0</td>\n",
       "      <td>0</td>\n",
       "      <td>0</td>\n",
       "      <td>0</td>\n",
       "      <td>0</td>\n",
       "    </tr>\n",
       "    <tr>\n",
       "      <th>3</th>\n",
       "      <td>5</td>\n",
       "      <td>0</td>\n",
       "      <td>0</td>\n",
       "      <td>0</td>\n",
       "      <td>0</td>\n",
       "      <td>0.349242</td>\n",
       "      <td>0.403851</td>\n",
       "      <td>0.059978</td>\n",
       "      <td>0.258138</td>\n",
       "      <td>0.141984</td>\n",
       "      <td>...</td>\n",
       "      <td>0</td>\n",
       "      <td>0</td>\n",
       "      <td>0</td>\n",
       "      <td>0</td>\n",
       "      <td>0</td>\n",
       "      <td>0</td>\n",
       "      <td>0</td>\n",
       "      <td>0</td>\n",
       "      <td>0</td>\n",
       "      <td>0</td>\n",
       "    </tr>\n",
       "    <tr>\n",
       "      <th>4</th>\n",
       "      <td>15</td>\n",
       "      <td>0</td>\n",
       "      <td>0</td>\n",
       "      <td>0</td>\n",
       "      <td>0</td>\n",
       "      <td>0.265701</td>\n",
       "      <td>0.276623</td>\n",
       "      <td>0.001539</td>\n",
       "      <td>-0.258707</td>\n",
       "      <td>0.147333</td>\n",
       "      <td>...</td>\n",
       "      <td>0</td>\n",
       "      <td>0</td>\n",
       "      <td>0</td>\n",
       "      <td>0</td>\n",
       "      <td>0</td>\n",
       "      <td>0</td>\n",
       "      <td>0</td>\n",
       "      <td>0</td>\n",
       "      <td>0</td>\n",
       "      <td>1</td>\n",
       "    </tr>\n",
       "    <tr>\n",
       "      <th>...</th>\n",
       "      <td>...</td>\n",
       "      <td>...</td>\n",
       "      <td>...</td>\n",
       "      <td>...</td>\n",
       "      <td>...</td>\n",
       "      <td>...</td>\n",
       "      <td>...</td>\n",
       "      <td>...</td>\n",
       "      <td>...</td>\n",
       "      <td>...</td>\n",
       "      <td>...</td>\n",
       "      <td>...</td>\n",
       "      <td>...</td>\n",
       "      <td>...</td>\n",
       "      <td>...</td>\n",
       "      <td>...</td>\n",
       "      <td>...</td>\n",
       "      <td>...</td>\n",
       "      <td>...</td>\n",
       "      <td>...</td>\n",
       "      <td>...</td>\n",
       "    </tr>\n",
       "    <tr>\n",
       "      <th>5639</th>\n",
       "      <td>3</td>\n",
       "      <td>1</td>\n",
       "      <td>0</td>\n",
       "      <td>0</td>\n",
       "      <td>0</td>\n",
       "      <td>0.004787</td>\n",
       "      <td>-0.015490</td>\n",
       "      <td>-0.399744</td>\n",
       "      <td>0.128015</td>\n",
       "      <td>0.018949</td>\n",
       "      <td>...</td>\n",
       "      <td>0</td>\n",
       "      <td>0</td>\n",
       "      <td>0</td>\n",
       "      <td>0</td>\n",
       "      <td>0</td>\n",
       "      <td>0</td>\n",
       "      <td>0</td>\n",
       "      <td>0</td>\n",
       "      <td>0</td>\n",
       "      <td>0</td>\n",
       "    </tr>\n",
       "    <tr>\n",
       "      <th>5640</th>\n",
       "      <td>17</td>\n",
       "      <td>0</td>\n",
       "      <td>0</td>\n",
       "      <td>0</td>\n",
       "      <td>0</td>\n",
       "      <td>0.235905</td>\n",
       "      <td>0.248018</td>\n",
       "      <td>-0.076280</td>\n",
       "      <td>0.133726</td>\n",
       "      <td>0.038534</td>\n",
       "      <td>...</td>\n",
       "      <td>0</td>\n",
       "      <td>0</td>\n",
       "      <td>0</td>\n",
       "      <td>0</td>\n",
       "      <td>0</td>\n",
       "      <td>0</td>\n",
       "      <td>0</td>\n",
       "      <td>0</td>\n",
       "      <td>0</td>\n",
       "      <td>0</td>\n",
       "    </tr>\n",
       "    <tr>\n",
       "      <th>5641</th>\n",
       "      <td>4</td>\n",
       "      <td>0</td>\n",
       "      <td>0</td>\n",
       "      <td>0</td>\n",
       "      <td>0</td>\n",
       "      <td>0.206909</td>\n",
       "      <td>0.290798</td>\n",
       "      <td>0.128370</td>\n",
       "      <td>0.061719</td>\n",
       "      <td>0.087939</td>\n",
       "      <td>...</td>\n",
       "      <td>0</td>\n",
       "      <td>0</td>\n",
       "      <td>0</td>\n",
       "      <td>0</td>\n",
       "      <td>0</td>\n",
       "      <td>0</td>\n",
       "      <td>0</td>\n",
       "      <td>0</td>\n",
       "      <td>0</td>\n",
       "      <td>0</td>\n",
       "    </tr>\n",
       "    <tr>\n",
       "      <th>5642</th>\n",
       "      <td>10</td>\n",
       "      <td>0</td>\n",
       "      <td>0</td>\n",
       "      <td>0</td>\n",
       "      <td>0</td>\n",
       "      <td>0.265820</td>\n",
       "      <td>0.281649</td>\n",
       "      <td>0.097968</td>\n",
       "      <td>-0.033496</td>\n",
       "      <td>0.074263</td>\n",
       "      <td>...</td>\n",
       "      <td>0</td>\n",
       "      <td>0</td>\n",
       "      <td>0</td>\n",
       "      <td>0</td>\n",
       "      <td>0</td>\n",
       "      <td>0</td>\n",
       "      <td>0</td>\n",
       "      <td>0</td>\n",
       "      <td>0</td>\n",
       "      <td>0</td>\n",
       "    </tr>\n",
       "    <tr>\n",
       "      <th>5643</th>\n",
       "      <td>19</td>\n",
       "      <td>1</td>\n",
       "      <td>0</td>\n",
       "      <td>0</td>\n",
       "      <td>0</td>\n",
       "      <td>0.694287</td>\n",
       "      <td>0.541564</td>\n",
       "      <td>-0.906829</td>\n",
       "      <td>-0.325903</td>\n",
       "      <td>0.578024</td>\n",
       "      <td>...</td>\n",
       "      <td>0</td>\n",
       "      <td>0</td>\n",
       "      <td>0</td>\n",
       "      <td>0</td>\n",
       "      <td>0</td>\n",
       "      <td>0</td>\n",
       "      <td>0</td>\n",
       "      <td>0</td>\n",
       "      <td>0</td>\n",
       "      <td>0</td>\n",
       "    </tr>\n",
       "  </tbody>\n",
       "</table>\n",
       "<p>5644 rows × 38 columns</p>\n",
       "</div>"
      ],
      "text/plain": [
       "      Patient_age_quantile  SARS_Cov_2_exam_result  \\\n",
       "0                       13                       0   \n",
       "1                       17                       0   \n",
       "2                        8                       0   \n",
       "3                        5                       0   \n",
       "4                       15                       0   \n",
       "...                    ...                     ...   \n",
       "5639                     3                       1   \n",
       "5640                    17                       0   \n",
       "5641                     4                       0   \n",
       "5642                    10                       0   \n",
       "5643                    19                       1   \n",
       "\n",
       "      Patient_addmited_to_regular_ward  \\\n",
       "0                                    0   \n",
       "1                                    0   \n",
       "2                                    0   \n",
       "3                                    0   \n",
       "4                                    0   \n",
       "...                                ...   \n",
       "5639                                 0   \n",
       "5640                                 0   \n",
       "5641                                 0   \n",
       "5642                                 0   \n",
       "5643                                 0   \n",
       "\n",
       "      Patient_addmited_to_semi_intensive_unit  \\\n",
       "0                                           0   \n",
       "1                                           0   \n",
       "2                                           0   \n",
       "3                                           0   \n",
       "4                                           0   \n",
       "...                                       ...   \n",
       "5639                                        0   \n",
       "5640                                        0   \n",
       "5641                                        0   \n",
       "5642                                        0   \n",
       "5643                                        0   \n",
       "\n",
       "      Patient_addmited_to_intensive_care_unit  Hematocrit  Hemoglobin  \\\n",
       "0                                           0    0.289773    0.304936   \n",
       "1                                           0    0.236515   -0.022340   \n",
       "2                                           0    0.250851    0.280500   \n",
       "3                                           0    0.349242    0.403851   \n",
       "4                                           0    0.265701    0.276623   \n",
       "...                                       ...         ...         ...   \n",
       "5639                                        0    0.004787   -0.015490   \n",
       "5640                                        0    0.235905    0.248018   \n",
       "5641                                        0    0.206909    0.290798   \n",
       "5642                                        0    0.265820    0.281649   \n",
       "5643                                        0    0.694287    0.541564   \n",
       "\n",
       "      Platelets  Mean_platelet_volume  Red_blood_Cells  ...  Adenovirus  \\\n",
       "0      0.115823             -0.029180         0.095453  ...           0   \n",
       "1     -0.517413              0.010677         0.102004  ...           0   \n",
       "2      0.073719             -0.000680         0.086184  ...           0   \n",
       "3      0.059978              0.258138         0.141984  ...           0   \n",
       "4      0.001539             -0.258707         0.147333  ...           0   \n",
       "...         ...                   ...              ...  ...         ...   \n",
       "5639  -0.399744              0.128015         0.018949  ...           0   \n",
       "5640  -0.076280              0.133726         0.038534  ...           0   \n",
       "5641   0.128370              0.061719         0.087939  ...           0   \n",
       "5642   0.097968             -0.033496         0.074263  ...           0   \n",
       "5643  -0.906829             -0.325903         0.578024  ...           0   \n",
       "\n",
       "      Parainfluenza_4  Coronavirus229E  CoronavirusOC43  Inf_A_H1N1_2009  \\\n",
       "0                   0                0                0                0   \n",
       "1                   0                0                0                0   \n",
       "2                   0                0                0                0   \n",
       "3                   0                0                0                0   \n",
       "4                   0                0                0                0   \n",
       "...               ...              ...              ...              ...   \n",
       "5639                0                0                0                0   \n",
       "5640                0                0                0                0   \n",
       "5641                0                0                0                0   \n",
       "5642                0                0                0                0   \n",
       "5643                0                0                0                0   \n",
       "\n",
       "      Bordetella_pertussis  Metapneumovirus  Influenza_B_rapid_test  \\\n",
       "0                        0                0                       0   \n",
       "1                        0                0                       0   \n",
       "2                        0                0                       0   \n",
       "3                        0                0                       0   \n",
       "4                        0                0                       0   \n",
       "...                    ...              ...                     ...   \n",
       "5639                     0                0                       0   \n",
       "5640                     0                0                       0   \n",
       "5641                     0                0                       0   \n",
       "5642                     0                0                       0   \n",
       "5643                     0                0                       0   \n",
       "\n",
       "      Influenza_A_rapid_test  detected  \n",
       "0                          0         0  \n",
       "1                          0         1  \n",
       "2                          0         0  \n",
       "3                          0         0  \n",
       "4                          0         1  \n",
       "...                      ...       ...  \n",
       "5639                       0         0  \n",
       "5640                       0         0  \n",
       "5641                       0         0  \n",
       "5642                       0         0  \n",
       "5643                       0         0  \n",
       "\n",
       "[5644 rows x 38 columns]"
      ]
     },
     "execution_count": 286,
     "metadata": {},
     "output_type": "execute_result"
    }
   ],
   "source": [
    "df_deal.columns = colNames\n",
    "df_deal"
   ]
  },
  {
   "cell_type": "code",
   "execution_count": 287,
   "id": "c5666df3-fd35-4daf-9744-611f43fabc20",
   "metadata": {},
   "outputs": [
    {
     "data": {
      "text/plain": [
       "detected                                          0.0\n",
       "Red_blood_Cells                                   0.0\n",
       "Mean_corpuscular_volume_MCV                       0.0\n",
       "Eosinophils                                       0.0\n",
       "Mean_corpuscular_hemoglobin_MCH                   0.0\n",
       "Basophils                                         0.0\n",
       "Leukocytes                                        0.0\n",
       "Mean_corpuscular_hemoglobin_concentration_MCHC    0.0\n",
       "Lymphocytes                                       0.0\n",
       "Mean_platelet_volume                              0.0\n",
       "Influenza_A_rapid_test                            0.0\n",
       "Platelets                                         0.0\n",
       "Hemoglobin                                        0.0\n",
       "Hematocrit                                        0.0\n",
       "Patient_addmited_to_intensive_care_unit           0.0\n",
       "Patient_addmited_to_semi_intensive_unit           0.0\n",
       "Patient_addmited_to_regular_ward                  0.0\n",
       "SARS_Cov_2_exam_result                            0.0\n",
       "Monocytes                                         0.0\n",
       "Red_blood_cell_distribution_width_RDW             0.0\n",
       "Respiratory_Syncytial_Virus                       0.0\n",
       "Influenza_A                                       0.0\n",
       "Influenza_B_rapid_test                            0.0\n",
       "Metapneumovirus                                   0.0\n",
       "Bordetella_pertussis                              0.0\n",
       "Inf_A_H1N1_2009                                   0.0\n",
       "CoronavirusOC43                                   0.0\n",
       "Coronavirus229E                                   0.0\n",
       "Parainfluenza_4                                   0.0\n",
       "Adenovirus                                        0.0\n",
       "Chlamydophila_pneumoniae                          0.0\n",
       "Parainfluenza_3                                   0.0\n",
       "Coronavirus_HKU1                                  0.0\n",
       "Rhinovirus_Enterovirus                            0.0\n",
       "CoronavirusNL63                                   0.0\n",
       "Parainfluenza_1                                   0.0\n",
       "Influenza_B                                       0.0\n",
       "Patient_age_quantile                              0.0\n",
       "dtype: float64"
      ]
     },
     "execution_count": 287,
     "metadata": {},
     "output_type": "execute_result"
    }
   ],
   "source": [
    "df_null_pct = df_deal.isna().mean().round(4)*100\n",
    "df_null_pct.sort_values(ascending=False)"
   ]
  },
  {
   "cell_type": "markdown",
   "id": "3deaf84b-e089-4950-803a-56a3dd230f78",
   "metadata": {},
   "source": [
    "## **Standardization**"
   ]
  },
  {
   "cell_type": "code",
   "execution_count": 288,
   "id": "43cb8c38-79ba-40ce-9203-f98dbf3c9d19",
   "metadata": {},
   "outputs": [],
   "source": [
    "df_deal_X = df_deal.drop('SARS_Cov_2_exam_result', axis=1)\n",
    "X_train, X_test, y_train, y_test = train_test_split(df_deal_X, df_deal['SARS_Cov_2_exam_result'], test_size=0.2, random_state=1)"
   ]
  },
  {
   "cell_type": "code",
   "execution_count": 289,
   "id": "4c0598a3-a591-4d57-959f-8510a50c574d",
   "metadata": {},
   "outputs": [
    {
     "name": "stdout",
     "output_type": "stream",
     "text": [
      "Series([], Name: SARS_Cov_2_exam_result, dtype: int64)\n"
     ]
    }
   ],
   "source": [
    "print(y_test[y_test.isna()])\n",
    "scaler = preprocessing.StandardScaler().fit(X_train)"
   ]
  },
  {
   "cell_type": "code",
   "execution_count": 290,
   "id": "2d9faf55-d325-4685-a8f2-ec39216fef9a",
   "metadata": {},
   "outputs": [
    {
     "data": {
      "text/html": [
       "<div>\n",
       "<style scoped>\n",
       "    .dataframe tbody tr th:only-of-type {\n",
       "        vertical-align: middle;\n",
       "    }\n",
       "\n",
       "    .dataframe tbody tr th {\n",
       "        vertical-align: top;\n",
       "    }\n",
       "\n",
       "    .dataframe thead th {\n",
       "        text-align: right;\n",
       "    }\n",
       "</style>\n",
       "<table border=\"1\" class=\"dataframe\">\n",
       "  <thead>\n",
       "    <tr style=\"text-align: right;\">\n",
       "      <th></th>\n",
       "      <th>Patient_age_quantile</th>\n",
       "      <th>Patient_addmited_to_regular_ward</th>\n",
       "      <th>Patient_addmited_to_semi_intensive_unit</th>\n",
       "      <th>Patient_addmited_to_intensive_care_unit</th>\n",
       "      <th>Hematocrit</th>\n",
       "      <th>Hemoglobin</th>\n",
       "      <th>Platelets</th>\n",
       "      <th>Mean_platelet_volume</th>\n",
       "      <th>Red_blood_Cells</th>\n",
       "      <th>Lymphocytes</th>\n",
       "      <th>...</th>\n",
       "      <th>Adenovirus</th>\n",
       "      <th>Parainfluenza_4</th>\n",
       "      <th>Coronavirus229E</th>\n",
       "      <th>CoronavirusOC43</th>\n",
       "      <th>Inf_A_H1N1_2009</th>\n",
       "      <th>Bordetella_pertussis</th>\n",
       "      <th>Metapneumovirus</th>\n",
       "      <th>Influenza_B_rapid_test</th>\n",
       "      <th>Influenza_A_rapid_test</th>\n",
       "      <th>detected</th>\n",
       "    </tr>\n",
       "  </thead>\n",
       "  <tbody>\n",
       "    <tr>\n",
       "      <th>2045</th>\n",
       "      <td>False</td>\n",
       "      <td>False</td>\n",
       "      <td>False</td>\n",
       "      <td>False</td>\n",
       "      <td>False</td>\n",
       "      <td>False</td>\n",
       "      <td>False</td>\n",
       "      <td>False</td>\n",
       "      <td>False</td>\n",
       "      <td>False</td>\n",
       "      <td>...</td>\n",
       "      <td>False</td>\n",
       "      <td>False</td>\n",
       "      <td>False</td>\n",
       "      <td>False</td>\n",
       "      <td>False</td>\n",
       "      <td>False</td>\n",
       "      <td>False</td>\n",
       "      <td>False</td>\n",
       "      <td>False</td>\n",
       "      <td>False</td>\n",
       "    </tr>\n",
       "    <tr>\n",
       "      <th>2719</th>\n",
       "      <td>False</td>\n",
       "      <td>False</td>\n",
       "      <td>False</td>\n",
       "      <td>False</td>\n",
       "      <td>False</td>\n",
       "      <td>False</td>\n",
       "      <td>False</td>\n",
       "      <td>False</td>\n",
       "      <td>False</td>\n",
       "      <td>False</td>\n",
       "      <td>...</td>\n",
       "      <td>False</td>\n",
       "      <td>False</td>\n",
       "      <td>False</td>\n",
       "      <td>False</td>\n",
       "      <td>False</td>\n",
       "      <td>False</td>\n",
       "      <td>False</td>\n",
       "      <td>False</td>\n",
       "      <td>False</td>\n",
       "      <td>False</td>\n",
       "    </tr>\n",
       "    <tr>\n",
       "      <th>1749</th>\n",
       "      <td>False</td>\n",
       "      <td>False</td>\n",
       "      <td>False</td>\n",
       "      <td>False</td>\n",
       "      <td>False</td>\n",
       "      <td>False</td>\n",
       "      <td>False</td>\n",
       "      <td>False</td>\n",
       "      <td>False</td>\n",
       "      <td>False</td>\n",
       "      <td>...</td>\n",
       "      <td>False</td>\n",
       "      <td>False</td>\n",
       "      <td>False</td>\n",
       "      <td>False</td>\n",
       "      <td>False</td>\n",
       "      <td>False</td>\n",
       "      <td>False</td>\n",
       "      <td>False</td>\n",
       "      <td>False</td>\n",
       "      <td>False</td>\n",
       "    </tr>\n",
       "    <tr>\n",
       "      <th>3108</th>\n",
       "      <td>False</td>\n",
       "      <td>False</td>\n",
       "      <td>False</td>\n",
       "      <td>False</td>\n",
       "      <td>False</td>\n",
       "      <td>False</td>\n",
       "      <td>False</td>\n",
       "      <td>False</td>\n",
       "      <td>False</td>\n",
       "      <td>False</td>\n",
       "      <td>...</td>\n",
       "      <td>False</td>\n",
       "      <td>False</td>\n",
       "      <td>False</td>\n",
       "      <td>False</td>\n",
       "      <td>False</td>\n",
       "      <td>False</td>\n",
       "      <td>False</td>\n",
       "      <td>False</td>\n",
       "      <td>False</td>\n",
       "      <td>False</td>\n",
       "    </tr>\n",
       "    <tr>\n",
       "      <th>322</th>\n",
       "      <td>False</td>\n",
       "      <td>False</td>\n",
       "      <td>False</td>\n",
       "      <td>False</td>\n",
       "      <td>False</td>\n",
       "      <td>False</td>\n",
       "      <td>False</td>\n",
       "      <td>False</td>\n",
       "      <td>False</td>\n",
       "      <td>False</td>\n",
       "      <td>...</td>\n",
       "      <td>False</td>\n",
       "      <td>False</td>\n",
       "      <td>False</td>\n",
       "      <td>False</td>\n",
       "      <td>False</td>\n",
       "      <td>False</td>\n",
       "      <td>False</td>\n",
       "      <td>False</td>\n",
       "      <td>False</td>\n",
       "      <td>False</td>\n",
       "    </tr>\n",
       "    <tr>\n",
       "      <th>...</th>\n",
       "      <td>...</td>\n",
       "      <td>...</td>\n",
       "      <td>...</td>\n",
       "      <td>...</td>\n",
       "      <td>...</td>\n",
       "      <td>...</td>\n",
       "      <td>...</td>\n",
       "      <td>...</td>\n",
       "      <td>...</td>\n",
       "      <td>...</td>\n",
       "      <td>...</td>\n",
       "      <td>...</td>\n",
       "      <td>...</td>\n",
       "      <td>...</td>\n",
       "      <td>...</td>\n",
       "      <td>...</td>\n",
       "      <td>...</td>\n",
       "      <td>...</td>\n",
       "      <td>...</td>\n",
       "      <td>...</td>\n",
       "      <td>...</td>\n",
       "    </tr>\n",
       "    <tr>\n",
       "      <th>905</th>\n",
       "      <td>False</td>\n",
       "      <td>False</td>\n",
       "      <td>False</td>\n",
       "      <td>False</td>\n",
       "      <td>False</td>\n",
       "      <td>False</td>\n",
       "      <td>False</td>\n",
       "      <td>False</td>\n",
       "      <td>False</td>\n",
       "      <td>False</td>\n",
       "      <td>...</td>\n",
       "      <td>False</td>\n",
       "      <td>False</td>\n",
       "      <td>False</td>\n",
       "      <td>False</td>\n",
       "      <td>False</td>\n",
       "      <td>False</td>\n",
       "      <td>False</td>\n",
       "      <td>False</td>\n",
       "      <td>False</td>\n",
       "      <td>False</td>\n",
       "    </tr>\n",
       "    <tr>\n",
       "      <th>5192</th>\n",
       "      <td>False</td>\n",
       "      <td>False</td>\n",
       "      <td>False</td>\n",
       "      <td>False</td>\n",
       "      <td>False</td>\n",
       "      <td>False</td>\n",
       "      <td>False</td>\n",
       "      <td>False</td>\n",
       "      <td>False</td>\n",
       "      <td>False</td>\n",
       "      <td>...</td>\n",
       "      <td>False</td>\n",
       "      <td>False</td>\n",
       "      <td>False</td>\n",
       "      <td>False</td>\n",
       "      <td>False</td>\n",
       "      <td>False</td>\n",
       "      <td>False</td>\n",
       "      <td>False</td>\n",
       "      <td>False</td>\n",
       "      <td>False</td>\n",
       "    </tr>\n",
       "    <tr>\n",
       "      <th>3980</th>\n",
       "      <td>False</td>\n",
       "      <td>False</td>\n",
       "      <td>False</td>\n",
       "      <td>False</td>\n",
       "      <td>False</td>\n",
       "      <td>False</td>\n",
       "      <td>False</td>\n",
       "      <td>False</td>\n",
       "      <td>False</td>\n",
       "      <td>False</td>\n",
       "      <td>...</td>\n",
       "      <td>False</td>\n",
       "      <td>False</td>\n",
       "      <td>False</td>\n",
       "      <td>False</td>\n",
       "      <td>False</td>\n",
       "      <td>False</td>\n",
       "      <td>False</td>\n",
       "      <td>False</td>\n",
       "      <td>False</td>\n",
       "      <td>False</td>\n",
       "    </tr>\n",
       "    <tr>\n",
       "      <th>235</th>\n",
       "      <td>False</td>\n",
       "      <td>False</td>\n",
       "      <td>False</td>\n",
       "      <td>False</td>\n",
       "      <td>False</td>\n",
       "      <td>False</td>\n",
       "      <td>False</td>\n",
       "      <td>False</td>\n",
       "      <td>False</td>\n",
       "      <td>False</td>\n",
       "      <td>...</td>\n",
       "      <td>False</td>\n",
       "      <td>False</td>\n",
       "      <td>False</td>\n",
       "      <td>False</td>\n",
       "      <td>False</td>\n",
       "      <td>False</td>\n",
       "      <td>False</td>\n",
       "      <td>False</td>\n",
       "      <td>False</td>\n",
       "      <td>False</td>\n",
       "    </tr>\n",
       "    <tr>\n",
       "      <th>5157</th>\n",
       "      <td>False</td>\n",
       "      <td>False</td>\n",
       "      <td>False</td>\n",
       "      <td>False</td>\n",
       "      <td>False</td>\n",
       "      <td>False</td>\n",
       "      <td>False</td>\n",
       "      <td>False</td>\n",
       "      <td>False</td>\n",
       "      <td>False</td>\n",
       "      <td>...</td>\n",
       "      <td>False</td>\n",
       "      <td>False</td>\n",
       "      <td>False</td>\n",
       "      <td>False</td>\n",
       "      <td>False</td>\n",
       "      <td>False</td>\n",
       "      <td>False</td>\n",
       "      <td>False</td>\n",
       "      <td>False</td>\n",
       "      <td>False</td>\n",
       "    </tr>\n",
       "  </tbody>\n",
       "</table>\n",
       "<p>4515 rows × 37 columns</p>\n",
       "</div>"
      ],
      "text/plain": [
       "      Patient_age_quantile  Patient_addmited_to_regular_ward  \\\n",
       "2045                 False                             False   \n",
       "2719                 False                             False   \n",
       "1749                 False                             False   \n",
       "3108                 False                             False   \n",
       "322                  False                             False   \n",
       "...                    ...                               ...   \n",
       "905                  False                             False   \n",
       "5192                 False                             False   \n",
       "3980                 False                             False   \n",
       "235                  False                             False   \n",
       "5157                 False                             False   \n",
       "\n",
       "      Patient_addmited_to_semi_intensive_unit  \\\n",
       "2045                                    False   \n",
       "2719                                    False   \n",
       "1749                                    False   \n",
       "3108                                    False   \n",
       "322                                     False   \n",
       "...                                       ...   \n",
       "905                                     False   \n",
       "5192                                    False   \n",
       "3980                                    False   \n",
       "235                                     False   \n",
       "5157                                    False   \n",
       "\n",
       "      Patient_addmited_to_intensive_care_unit  Hematocrit  Hemoglobin  \\\n",
       "2045                                    False       False       False   \n",
       "2719                                    False       False       False   \n",
       "1749                                    False       False       False   \n",
       "3108                                    False       False       False   \n",
       "322                                     False       False       False   \n",
       "...                                       ...         ...         ...   \n",
       "905                                     False       False       False   \n",
       "5192                                    False       False       False   \n",
       "3980                                    False       False       False   \n",
       "235                                     False       False       False   \n",
       "5157                                    False       False       False   \n",
       "\n",
       "      Platelets  Mean_platelet_volume  Red_blood_Cells  Lymphocytes  ...  \\\n",
       "2045      False                 False            False        False  ...   \n",
       "2719      False                 False            False        False  ...   \n",
       "1749      False                 False            False        False  ...   \n",
       "3108      False                 False            False        False  ...   \n",
       "322       False                 False            False        False  ...   \n",
       "...         ...                   ...              ...          ...  ...   \n",
       "905       False                 False            False        False  ...   \n",
       "5192      False                 False            False        False  ...   \n",
       "3980      False                 False            False        False  ...   \n",
       "235       False                 False            False        False  ...   \n",
       "5157      False                 False            False        False  ...   \n",
       "\n",
       "      Adenovirus  Parainfluenza_4  Coronavirus229E  CoronavirusOC43  \\\n",
       "2045       False            False            False            False   \n",
       "2719       False            False            False            False   \n",
       "1749       False            False            False            False   \n",
       "3108       False            False            False            False   \n",
       "322        False            False            False            False   \n",
       "...          ...              ...              ...              ...   \n",
       "905        False            False            False            False   \n",
       "5192       False            False            False            False   \n",
       "3980       False            False            False            False   \n",
       "235        False            False            False            False   \n",
       "5157       False            False            False            False   \n",
       "\n",
       "      Inf_A_H1N1_2009  Bordetella_pertussis  Metapneumovirus  \\\n",
       "2045            False                 False            False   \n",
       "2719            False                 False            False   \n",
       "1749            False                 False            False   \n",
       "3108            False                 False            False   \n",
       "322             False                 False            False   \n",
       "...               ...                   ...              ...   \n",
       "905             False                 False            False   \n",
       "5192            False                 False            False   \n",
       "3980            False                 False            False   \n",
       "235             False                 False            False   \n",
       "5157            False                 False            False   \n",
       "\n",
       "      Influenza_B_rapid_test  Influenza_A_rapid_test  detected  \n",
       "2045                   False                   False     False  \n",
       "2719                   False                   False     False  \n",
       "1749                   False                   False     False  \n",
       "3108                   False                   False     False  \n",
       "322                    False                   False     False  \n",
       "...                      ...                     ...       ...  \n",
       "905                    False                   False     False  \n",
       "5192                   False                   False     False  \n",
       "3980                   False                   False     False  \n",
       "235                    False                   False     False  \n",
       "5157                   False                   False     False  \n",
       "\n",
       "[4515 rows x 37 columns]"
      ]
     },
     "execution_count": 290,
     "metadata": {},
     "output_type": "execute_result"
    }
   ],
   "source": [
    "scaler.mean_\n",
    "scaler.scale_\n",
    "X_scaled = scaler.transform(X_train)\n",
    "X_test_scaled = scaler.transform(X_test)\n",
    "pd.DataFrame(X_scaled).isna()\n",
    "pd.DataFrame(X_train).isna()"
   ]
  },
  {
   "cell_type": "code",
   "execution_count": 291,
   "id": "e2b5768a-0b0c-458d-b59a-cfc8450435b0",
   "metadata": {},
   "outputs": [
    {
     "data": {
      "text/plain": [
       "array([-3.14747613e-18, -6.29495225e-18,  2.51798090e-17, -1.49505116e-17,\n",
       "        1.57373806e-18, -4.24909277e-17,  7.47525580e-18, -1.45570771e-17,\n",
       "       -1.25899045e-17,  9.12768077e-17,  1.10161664e-17, -4.72121419e-17,\n",
       "       -1.57373806e-17, -6.29495225e-18,  6.29495225e-18, -6.29495225e-18,\n",
       "       -7.08182129e-18,  2.51798090e-17,  1.88848568e-17, -8.65555935e-18,\n",
       "        6.29495225e-18, -1.25899045e-17, -2.36060710e-18, -2.83272851e-17,\n",
       "        1.80979877e-17, -3.14747613e-18, -9.83586290e-18,  1.33767735e-17,\n",
       "       -7.86869032e-19,  0.00000000e+00, -7.86869032e-19,  2.83272851e-17,\n",
       "       -1.57373806e-18, -6.29495225e-18, -7.86869032e-18, -2.59666781e-17,\n",
       "       -3.46222374e-17])"
      ]
     },
     "execution_count": 291,
     "metadata": {},
     "output_type": "execute_result"
    }
   ],
   "source": [
    "X_scaled.mean(axis=0)"
   ]
  },
  {
   "cell_type": "code",
   "execution_count": 292,
   "id": "ba6c958d-8f6c-4851-b7b5-326556aac8aa",
   "metadata": {},
   "outputs": [],
   "source": [
    "# scaled_data = pd.concat([X_scaled, y_train], 1)\n",
    "\n",
    "# dd =pd.concat([pd.DataFrame(X_test_scaled), y_test], 1)\n",
    "\n",
    "scaled = pd.DataFrame(X_scaled)\n",
    "scaled[37] = list(y_train)\n",
    "scaled\n",
    "\n",
    "test_scaled = pd.DataFrame(X_test_scaled)\n",
    "test_scaled[37] = list(y_test)\n",
    "test_scaled\n",
    "scaled =  pd.concat([scaled, test_scaled],0)\n",
    "scaled.columns = [\n",
    " 'Patient_age_quantile',\n",
    " 'Patient_addmited_to_regular_ward',\n",
    " 'Patient_addmited_to_semi_intensive_unit',\n",
    " 'Patient_addmited_to_intensive_care_unit',\n",
    " 'Hematocrit',\n",
    " 'Hemoglobin',\n",
    " 'Platelets',\n",
    " 'Mean_platelet_volume',\n",
    " 'Red_blood_Cells',\n",
    " 'Lymphocytes',\n",
    " 'Mean_corpuscular_hemoglobin_concentration_MCHC',\n",
    " 'Leukocytes',\n",
    " 'Basophils',\n",
    " 'Mean_corpuscular_hemoglobin_MCH',\n",
    " 'Eosinophils',\n",
    " 'Mean_corpuscular_volume_MCV',\n",
    " 'Monocytes',\n",
    " 'Red_blood_cell_distribution_width_RDW',\n",
    " 'Respiratory_Syncytial_Virus',\n",
    " 'Influenza_A',\n",
    " 'Influenza_B',\n",
    " 'Parainfluenza_1',\n",
    " 'CoronavirusNL63',\n",
    " 'Rhinovirus_Enterovirus',\n",
    " 'Coronavirus_HKU1',\n",
    " 'Parainfluenza_3',\n",
    " 'Chlamydophila_pneumoniae',\n",
    " 'Adenovirus',\n",
    " 'Parainfluenza_4',\n",
    " 'Coronavirus229E',\n",
    " 'CoronavirusOC43',\n",
    " 'Inf_A_H1N1_2009',\n",
    " 'Bordetella_pertussis',\n",
    " 'Metapneumovirus',\n",
    " 'Influenza_B_rapid_test',\n",
    " 'Influenza_A_rapid_test',\n",
    " 'detected',\n",
    " 'SARS_Cov_2_exam_result']\n"
   ]
  },
  {
   "cell_type": "markdown",
   "id": "0594749f-0b3b-4afa-a5a2-8a8463b1aacc",
   "metadata": {},
   "source": [
    "## **Forward selection**"
   ]
  },
  {
   "cell_type": "code",
   "execution_count": 293,
   "id": "58440574-4675-48b6-9429-1ae87b30cb23",
   "metadata": {},
   "outputs": [
    {
     "data": {
      "text/plain": [
       "array([[-0.04257601, -0.12273121, -0.09805807, ..., -0.09089894,\n",
       "        -0.09572909, -0.38808713],\n",
       "       [-1.07792984, -0.12273121, -0.09805807, ..., -0.09089894,\n",
       "        -0.09572909, -0.38808713],\n",
       "       [ 0.82021884, -0.12273121, -0.09805807, ..., -0.09089894,\n",
       "        -0.09572909, -0.38808713],\n",
       "       ...,\n",
       "       [-0.7328119 , -0.12273121, -0.09805807, ..., -0.09089894,\n",
       "        -0.09572909, -0.38808713],\n",
       "       [ 1.16533679, -0.12273121, -0.09805807, ..., -0.09089894,\n",
       "        -0.09572909, -0.38808713],\n",
       "       [ 0.30254193, -0.12273121, -0.09805807, ..., -0.09089894,\n",
       "        -0.09572909, -0.38808713]])"
      ]
     },
     "execution_count": 293,
     "metadata": {},
     "output_type": "execute_result"
    }
   ],
   "source": [
    "X_scaled"
   ]
  },
  {
   "cell_type": "code",
   "execution_count": 294,
   "id": "00325e59-5837-415e-855b-a33227c07b37",
   "metadata": {},
   "outputs": [],
   "source": [
    "def processSubset(X_label):\n",
    "    # Fit model on feature_set and calculate RSS\n",
    "    X_smf = ' + '.join(X_label)\n",
    "    f = 'SARS_Cov_2_exam_result ~ {}'.format(X_smf)\n",
    "    # Fit model\n",
    "    lin_reg = smf.ols(formula=f, data=scaled).fit()\n",
    "    RSS = lin_reg.ssr\n",
    "    return {'model': lin_reg, 'RSS': RSS}"
   ]
  },
  {
   "cell_type": "code",
   "execution_count": 295,
   "id": "767eb68f-c241-4188-984f-af0879c01a25",
   "metadata": {},
   "outputs": [],
   "source": [
    "def forward(predictors):\n",
    "    remaining_predictors = [p for p in X_train.columns if p not in predictors]\n",
    "    results = []\n",
    "    for p in remaining_predictors:\n",
    "        results.append(processSubset(predictors+[p]))\n",
    "    models = pd.DataFrame(results)\n",
    "    best_model = models.loc[models['RSS'].argmin()]\n",
    "    return best_model"
   ]
  },
  {
   "cell_type": "code",
   "execution_count": 296,
   "id": "b5a8a03a-b2e2-463c-94ab-3c64017d7920",
   "metadata": {},
   "outputs": [
    {
     "name": "stdout",
     "output_type": "stream",
     "text": [
      "1 ['Platelets']\n",
      "2 ['Platelets', 'Eosinophils']\n",
      "3 ['Platelets', 'Eosinophils', 'Leukocytes']\n",
      "4 ['Platelets', 'Eosinophils', 'Leukocytes', 'Monocytes']\n",
      "5 ['Platelets', 'Eosinophils', 'Leukocytes', 'Monocytes', 'Patient_age_quantile']\n",
      "6 ['Platelets', 'Eosinophils', 'Leukocytes', 'Monocytes', 'Patient_age_quantile', 'Influenza_B']\n",
      "7 ['Platelets', 'Eosinophils', 'Leukocytes', 'Monocytes', 'Patient_age_quantile', 'Influenza_B', 'Basophils']\n",
      "8 ['Platelets', 'Eosinophils', 'Leukocytes', 'Monocytes', 'Patient_age_quantile', 'Influenza_B', 'Basophils', 'detected']\n",
      "9 ['Platelets', 'Eosinophils', 'Leukocytes', 'Monocytes', 'Patient_age_quantile', 'Influenza_B', 'Basophils', 'detected', 'Patient_addmited_to_intensive_care_unit']\n",
      "10 ['Platelets', 'Eosinophils', 'Leukocytes', 'Monocytes', 'Patient_age_quantile', 'Influenza_B', 'Basophils', 'detected', 'Patient_addmited_to_intensive_care_unit', 'Rhinovirus_Enterovirus']\n",
      "11 ['Platelets', 'Eosinophils', 'Leukocytes', 'Monocytes', 'Patient_age_quantile', 'Influenza_B', 'Basophils', 'detected', 'Patient_addmited_to_intensive_care_unit', 'Rhinovirus_Enterovirus', 'Mean_corpuscular_hemoglobin_MCH']\n",
      "12 ['Platelets', 'Eosinophils', 'Leukocytes', 'Monocytes', 'Patient_age_quantile', 'Influenza_B', 'Basophils', 'detected', 'Patient_addmited_to_intensive_care_unit', 'Rhinovirus_Enterovirus', 'Mean_corpuscular_hemoglobin_MCH', 'Red_blood_cell_distribution_width_RDW']\n",
      "13 ['Platelets', 'Eosinophils', 'Leukocytes', 'Monocytes', 'Patient_age_quantile', 'Influenza_B', 'Basophils', 'detected', 'Patient_addmited_to_intensive_care_unit', 'Rhinovirus_Enterovirus', 'Mean_corpuscular_hemoglobin_MCH', 'Red_blood_cell_distribution_width_RDW', 'Patient_addmited_to_regular_ward']\n",
      "14 ['Platelets', 'Eosinophils', 'Leukocytes', 'Monocytes', 'Patient_age_quantile', 'Influenza_B', 'Basophils', 'detected', 'Patient_addmited_to_intensive_care_unit', 'Rhinovirus_Enterovirus', 'Mean_corpuscular_hemoglobin_MCH', 'Red_blood_cell_distribution_width_RDW', 'Patient_addmited_to_regular_ward', 'Coronavirus229E']\n",
      "15 ['Platelets', 'Eosinophils', 'Leukocytes', 'Monocytes', 'Patient_age_quantile', 'Influenza_B', 'Basophils', 'detected', 'Patient_addmited_to_intensive_care_unit', 'Rhinovirus_Enterovirus', 'Mean_corpuscular_hemoglobin_MCH', 'Red_blood_cell_distribution_width_RDW', 'Patient_addmited_to_regular_ward', 'Coronavirus229E', 'Mean_corpuscular_volume_MCV']\n",
      "16 ['Platelets', 'Eosinophils', 'Leukocytes', 'Monocytes', 'Patient_age_quantile', 'Influenza_B', 'Basophils', 'detected', 'Patient_addmited_to_intensive_care_unit', 'Rhinovirus_Enterovirus', 'Mean_corpuscular_hemoglobin_MCH', 'Red_blood_cell_distribution_width_RDW', 'Patient_addmited_to_regular_ward', 'Coronavirus229E', 'Mean_corpuscular_volume_MCV', 'Mean_corpuscular_hemoglobin_concentration_MCHC']\n",
      "17 ['Platelets', 'Eosinophils', 'Leukocytes', 'Monocytes', 'Patient_age_quantile', 'Influenza_B', 'Basophils', 'detected', 'Patient_addmited_to_intensive_care_unit', 'Rhinovirus_Enterovirus', 'Mean_corpuscular_hemoglobin_MCH', 'Red_blood_cell_distribution_width_RDW', 'Patient_addmited_to_regular_ward', 'Coronavirus229E', 'Mean_corpuscular_volume_MCV', 'Mean_corpuscular_hemoglobin_concentration_MCHC', 'Mean_platelet_volume']\n",
      "18 ['Platelets', 'Eosinophils', 'Leukocytes', 'Monocytes', 'Patient_age_quantile', 'Influenza_B', 'Basophils', 'detected', 'Patient_addmited_to_intensive_care_unit', 'Rhinovirus_Enterovirus', 'Mean_corpuscular_hemoglobin_MCH', 'Red_blood_cell_distribution_width_RDW', 'Patient_addmited_to_regular_ward', 'Coronavirus229E', 'Mean_corpuscular_volume_MCV', 'Mean_corpuscular_hemoglobin_concentration_MCHC', 'Mean_platelet_volume', 'Inf_A_H1N1_2009']\n",
      "19 ['Platelets', 'Eosinophils', 'Leukocytes', 'Monocytes', 'Patient_age_quantile', 'Influenza_B', 'Basophils', 'detected', 'Patient_addmited_to_intensive_care_unit', 'Rhinovirus_Enterovirus', 'Mean_corpuscular_hemoglobin_MCH', 'Red_blood_cell_distribution_width_RDW', 'Patient_addmited_to_regular_ward', 'Coronavirus229E', 'Mean_corpuscular_volume_MCV', 'Mean_corpuscular_hemoglobin_concentration_MCHC', 'Mean_platelet_volume', 'Inf_A_H1N1_2009', 'Respiratory_Syncytial_Virus']\n",
      "20 ['Platelets', 'Eosinophils', 'Leukocytes', 'Monocytes', 'Patient_age_quantile', 'Influenza_B', 'Basophils', 'detected', 'Patient_addmited_to_intensive_care_unit', 'Rhinovirus_Enterovirus', 'Mean_corpuscular_hemoglobin_MCH', 'Red_blood_cell_distribution_width_RDW', 'Patient_addmited_to_regular_ward', 'Coronavirus229E', 'Mean_corpuscular_volume_MCV', 'Mean_corpuscular_hemoglobin_concentration_MCHC', 'Mean_platelet_volume', 'Inf_A_H1N1_2009', 'Respiratory_Syncytial_Virus', 'Patient_addmited_to_semi_intensive_unit']\n",
      "21 ['Platelets', 'Eosinophils', 'Leukocytes', 'Monocytes', 'Patient_age_quantile', 'Influenza_B', 'Basophils', 'detected', 'Patient_addmited_to_intensive_care_unit', 'Rhinovirus_Enterovirus', 'Mean_corpuscular_hemoglobin_MCH', 'Red_blood_cell_distribution_width_RDW', 'Patient_addmited_to_regular_ward', 'Coronavirus229E', 'Mean_corpuscular_volume_MCV', 'Mean_corpuscular_hemoglobin_concentration_MCHC', 'Mean_platelet_volume', 'Inf_A_H1N1_2009', 'Respiratory_Syncytial_Virus', 'Patient_addmited_to_semi_intensive_unit', 'Influenza_B_rapid_test']\n",
      "22 ['Platelets', 'Eosinophils', 'Leukocytes', 'Monocytes', 'Patient_age_quantile', 'Influenza_B', 'Basophils', 'detected', 'Patient_addmited_to_intensive_care_unit', 'Rhinovirus_Enterovirus', 'Mean_corpuscular_hemoglobin_MCH', 'Red_blood_cell_distribution_width_RDW', 'Patient_addmited_to_regular_ward', 'Coronavirus229E', 'Mean_corpuscular_volume_MCV', 'Mean_corpuscular_hemoglobin_concentration_MCHC', 'Mean_platelet_volume', 'Inf_A_H1N1_2009', 'Respiratory_Syncytial_Virus', 'Patient_addmited_to_semi_intensive_unit', 'Influenza_B_rapid_test', 'CoronavirusOC43']\n",
      "23 ['Platelets', 'Eosinophils', 'Leukocytes', 'Monocytes', 'Patient_age_quantile', 'Influenza_B', 'Basophils', 'detected', 'Patient_addmited_to_intensive_care_unit', 'Rhinovirus_Enterovirus', 'Mean_corpuscular_hemoglobin_MCH', 'Red_blood_cell_distribution_width_RDW', 'Patient_addmited_to_regular_ward', 'Coronavirus229E', 'Mean_corpuscular_volume_MCV', 'Mean_corpuscular_hemoglobin_concentration_MCHC', 'Mean_platelet_volume', 'Inf_A_H1N1_2009', 'Respiratory_Syncytial_Virus', 'Patient_addmited_to_semi_intensive_unit', 'Influenza_B_rapid_test', 'CoronavirusOC43', 'Coronavirus_HKU1']\n",
      "24 ['Platelets', 'Eosinophils', 'Leukocytes', 'Monocytes', 'Patient_age_quantile', 'Influenza_B', 'Basophils', 'detected', 'Patient_addmited_to_intensive_care_unit', 'Rhinovirus_Enterovirus', 'Mean_corpuscular_hemoglobin_MCH', 'Red_blood_cell_distribution_width_RDW', 'Patient_addmited_to_regular_ward', 'Coronavirus229E', 'Mean_corpuscular_volume_MCV', 'Mean_corpuscular_hemoglobin_concentration_MCHC', 'Mean_platelet_volume', 'Inf_A_H1N1_2009', 'Respiratory_Syncytial_Virus', 'Patient_addmited_to_semi_intensive_unit', 'Influenza_B_rapid_test', 'CoronavirusOC43', 'Coronavirus_HKU1', 'Parainfluenza_4']\n",
      "25 ['Platelets', 'Eosinophils', 'Leukocytes', 'Monocytes', 'Patient_age_quantile', 'Influenza_B', 'Basophils', 'detected', 'Patient_addmited_to_intensive_care_unit', 'Rhinovirus_Enterovirus', 'Mean_corpuscular_hemoglobin_MCH', 'Red_blood_cell_distribution_width_RDW', 'Patient_addmited_to_regular_ward', 'Coronavirus229E', 'Mean_corpuscular_volume_MCV', 'Mean_corpuscular_hemoglobin_concentration_MCHC', 'Mean_platelet_volume', 'Inf_A_H1N1_2009', 'Respiratory_Syncytial_Virus', 'Patient_addmited_to_semi_intensive_unit', 'Influenza_B_rapid_test', 'CoronavirusOC43', 'Coronavirus_HKU1', 'Parainfluenza_4', 'CoronavirusNL63']\n",
      "26 ['Platelets', 'Eosinophils', 'Leukocytes', 'Monocytes', 'Patient_age_quantile', 'Influenza_B', 'Basophils', 'detected', 'Patient_addmited_to_intensive_care_unit', 'Rhinovirus_Enterovirus', 'Mean_corpuscular_hemoglobin_MCH', 'Red_blood_cell_distribution_width_RDW', 'Patient_addmited_to_regular_ward', 'Coronavirus229E', 'Mean_corpuscular_volume_MCV', 'Mean_corpuscular_hemoglobin_concentration_MCHC', 'Mean_platelet_volume', 'Inf_A_H1N1_2009', 'Respiratory_Syncytial_Virus', 'Patient_addmited_to_semi_intensive_unit', 'Influenza_B_rapid_test', 'CoronavirusOC43', 'Coronavirus_HKU1', 'Parainfluenza_4', 'CoronavirusNL63', 'Lymphocytes']\n",
      "27 ['Platelets', 'Eosinophils', 'Leukocytes', 'Monocytes', 'Patient_age_quantile', 'Influenza_B', 'Basophils', 'detected', 'Patient_addmited_to_intensive_care_unit', 'Rhinovirus_Enterovirus', 'Mean_corpuscular_hemoglobin_MCH', 'Red_blood_cell_distribution_width_RDW', 'Patient_addmited_to_regular_ward', 'Coronavirus229E', 'Mean_corpuscular_volume_MCV', 'Mean_corpuscular_hemoglobin_concentration_MCHC', 'Mean_platelet_volume', 'Inf_A_H1N1_2009', 'Respiratory_Syncytial_Virus', 'Patient_addmited_to_semi_intensive_unit', 'Influenza_B_rapid_test', 'CoronavirusOC43', 'Coronavirus_HKU1', 'Parainfluenza_4', 'CoronavirusNL63', 'Lymphocytes', 'Red_blood_Cells']\n",
      "28 ['Platelets', 'Eosinophils', 'Leukocytes', 'Monocytes', 'Patient_age_quantile', 'Influenza_B', 'Basophils', 'detected', 'Patient_addmited_to_intensive_care_unit', 'Rhinovirus_Enterovirus', 'Mean_corpuscular_hemoglobin_MCH', 'Red_blood_cell_distribution_width_RDW', 'Patient_addmited_to_regular_ward', 'Coronavirus229E', 'Mean_corpuscular_volume_MCV', 'Mean_corpuscular_hemoglobin_concentration_MCHC', 'Mean_platelet_volume', 'Inf_A_H1N1_2009', 'Respiratory_Syncytial_Virus', 'Patient_addmited_to_semi_intensive_unit', 'Influenza_B_rapid_test', 'CoronavirusOC43', 'Coronavirus_HKU1', 'Parainfluenza_4', 'CoronavirusNL63', 'Lymphocytes', 'Red_blood_Cells', 'Chlamydophila_pneumoniae']\n",
      "29 ['Platelets', 'Eosinophils', 'Leukocytes', 'Monocytes', 'Patient_age_quantile', 'Influenza_B', 'Basophils', 'detected', 'Patient_addmited_to_intensive_care_unit', 'Rhinovirus_Enterovirus', 'Mean_corpuscular_hemoglobin_MCH', 'Red_blood_cell_distribution_width_RDW', 'Patient_addmited_to_regular_ward', 'Coronavirus229E', 'Mean_corpuscular_volume_MCV', 'Mean_corpuscular_hemoglobin_concentration_MCHC', 'Mean_platelet_volume', 'Inf_A_H1N1_2009', 'Respiratory_Syncytial_Virus', 'Patient_addmited_to_semi_intensive_unit', 'Influenza_B_rapid_test', 'CoronavirusOC43', 'Coronavirus_HKU1', 'Parainfluenza_4', 'CoronavirusNL63', 'Lymphocytes', 'Red_blood_Cells', 'Chlamydophila_pneumoniae', 'Metapneumovirus']\n",
      "30 ['Platelets', 'Eosinophils', 'Leukocytes', 'Monocytes', 'Patient_age_quantile', 'Influenza_B', 'Basophils', 'detected', 'Patient_addmited_to_intensive_care_unit', 'Rhinovirus_Enterovirus', 'Mean_corpuscular_hemoglobin_MCH', 'Red_blood_cell_distribution_width_RDW', 'Patient_addmited_to_regular_ward', 'Coronavirus229E', 'Mean_corpuscular_volume_MCV', 'Mean_corpuscular_hemoglobin_concentration_MCHC', 'Mean_platelet_volume', 'Inf_A_H1N1_2009', 'Respiratory_Syncytial_Virus', 'Patient_addmited_to_semi_intensive_unit', 'Influenza_B_rapid_test', 'CoronavirusOC43', 'Coronavirus_HKU1', 'Parainfluenza_4', 'CoronavirusNL63', 'Lymphocytes', 'Red_blood_Cells', 'Chlamydophila_pneumoniae', 'Metapneumovirus', 'Bordetella_pertussis']\n",
      "31 ['Platelets', 'Eosinophils', 'Leukocytes', 'Monocytes', 'Patient_age_quantile', 'Influenza_B', 'Basophils', 'detected', 'Patient_addmited_to_intensive_care_unit', 'Rhinovirus_Enterovirus', 'Mean_corpuscular_hemoglobin_MCH', 'Red_blood_cell_distribution_width_RDW', 'Patient_addmited_to_regular_ward', 'Coronavirus229E', 'Mean_corpuscular_volume_MCV', 'Mean_corpuscular_hemoglobin_concentration_MCHC', 'Mean_platelet_volume', 'Inf_A_H1N1_2009', 'Respiratory_Syncytial_Virus', 'Patient_addmited_to_semi_intensive_unit', 'Influenza_B_rapid_test', 'CoronavirusOC43', 'Coronavirus_HKU1', 'Parainfluenza_4', 'CoronavirusNL63', 'Lymphocytes', 'Red_blood_Cells', 'Chlamydophila_pneumoniae', 'Metapneumovirus', 'Bordetella_pertussis', 'Influenza_A_rapid_test']\n",
      "32 ['Platelets', 'Eosinophils', 'Leukocytes', 'Monocytes', 'Patient_age_quantile', 'Influenza_B', 'Basophils', 'detected', 'Patient_addmited_to_intensive_care_unit', 'Rhinovirus_Enterovirus', 'Mean_corpuscular_hemoglobin_MCH', 'Red_blood_cell_distribution_width_RDW', 'Patient_addmited_to_regular_ward', 'Coronavirus229E', 'Mean_corpuscular_volume_MCV', 'Mean_corpuscular_hemoglobin_concentration_MCHC', 'Mean_platelet_volume', 'Inf_A_H1N1_2009', 'Respiratory_Syncytial_Virus', 'Patient_addmited_to_semi_intensive_unit', 'Influenza_B_rapid_test', 'CoronavirusOC43', 'Coronavirus_HKU1', 'Parainfluenza_4', 'CoronavirusNL63', 'Lymphocytes', 'Red_blood_Cells', 'Chlamydophila_pneumoniae', 'Metapneumovirus', 'Bordetella_pertussis', 'Influenza_A_rapid_test', 'Parainfluenza_3']\n",
      "33 ['Platelets', 'Eosinophils', 'Leukocytes', 'Monocytes', 'Patient_age_quantile', 'Influenza_B', 'Basophils', 'detected', 'Patient_addmited_to_intensive_care_unit', 'Rhinovirus_Enterovirus', 'Mean_corpuscular_hemoglobin_MCH', 'Red_blood_cell_distribution_width_RDW', 'Patient_addmited_to_regular_ward', 'Coronavirus229E', 'Mean_corpuscular_volume_MCV', 'Mean_corpuscular_hemoglobin_concentration_MCHC', 'Mean_platelet_volume', 'Inf_A_H1N1_2009', 'Respiratory_Syncytial_Virus', 'Patient_addmited_to_semi_intensive_unit', 'Influenza_B_rapid_test', 'CoronavirusOC43', 'Coronavirus_HKU1', 'Parainfluenza_4', 'CoronavirusNL63', 'Lymphocytes', 'Red_blood_Cells', 'Chlamydophila_pneumoniae', 'Metapneumovirus', 'Bordetella_pertussis', 'Influenza_A_rapid_test', 'Parainfluenza_3', 'Hematocrit']\n",
      "34 ['Platelets', 'Eosinophils', 'Leukocytes', 'Monocytes', 'Patient_age_quantile', 'Influenza_B', 'Basophils', 'detected', 'Patient_addmited_to_intensive_care_unit', 'Rhinovirus_Enterovirus', 'Mean_corpuscular_hemoglobin_MCH', 'Red_blood_cell_distribution_width_RDW', 'Patient_addmited_to_regular_ward', 'Coronavirus229E', 'Mean_corpuscular_volume_MCV', 'Mean_corpuscular_hemoglobin_concentration_MCHC', 'Mean_platelet_volume', 'Inf_A_H1N1_2009', 'Respiratory_Syncytial_Virus', 'Patient_addmited_to_semi_intensive_unit', 'Influenza_B_rapid_test', 'CoronavirusOC43', 'Coronavirus_HKU1', 'Parainfluenza_4', 'CoronavirusNL63', 'Lymphocytes', 'Red_blood_Cells', 'Chlamydophila_pneumoniae', 'Metapneumovirus', 'Bordetella_pertussis', 'Influenza_A_rapid_test', 'Parainfluenza_3', 'Hematocrit', 'Hemoglobin']\n",
      "35 ['Platelets', 'Eosinophils', 'Leukocytes', 'Monocytes', 'Patient_age_quantile', 'Influenza_B', 'Basophils', 'detected', 'Patient_addmited_to_intensive_care_unit', 'Rhinovirus_Enterovirus', 'Mean_corpuscular_hemoglobin_MCH', 'Red_blood_cell_distribution_width_RDW', 'Patient_addmited_to_regular_ward', 'Coronavirus229E', 'Mean_corpuscular_volume_MCV', 'Mean_corpuscular_hemoglobin_concentration_MCHC', 'Mean_platelet_volume', 'Inf_A_H1N1_2009', 'Respiratory_Syncytial_Virus', 'Patient_addmited_to_semi_intensive_unit', 'Influenza_B_rapid_test', 'CoronavirusOC43', 'Coronavirus_HKU1', 'Parainfluenza_4', 'CoronavirusNL63', 'Lymphocytes', 'Red_blood_Cells', 'Chlamydophila_pneumoniae', 'Metapneumovirus', 'Bordetella_pertussis', 'Influenza_A_rapid_test', 'Parainfluenza_3', 'Hematocrit', 'Hemoglobin', 'Parainfluenza_1']\n",
      "36 ['Platelets', 'Eosinophils', 'Leukocytes', 'Monocytes', 'Patient_age_quantile', 'Influenza_B', 'Basophils', 'detected', 'Patient_addmited_to_intensive_care_unit', 'Rhinovirus_Enterovirus', 'Mean_corpuscular_hemoglobin_MCH', 'Red_blood_cell_distribution_width_RDW', 'Patient_addmited_to_regular_ward', 'Coronavirus229E', 'Mean_corpuscular_volume_MCV', 'Mean_corpuscular_hemoglobin_concentration_MCHC', 'Mean_platelet_volume', 'Inf_A_H1N1_2009', 'Respiratory_Syncytial_Virus', 'Patient_addmited_to_semi_intensive_unit', 'Influenza_B_rapid_test', 'CoronavirusOC43', 'Coronavirus_HKU1', 'Parainfluenza_4', 'CoronavirusNL63', 'Lymphocytes', 'Red_blood_Cells', 'Chlamydophila_pneumoniae', 'Metapneumovirus', 'Bordetella_pertussis', 'Influenza_A_rapid_test', 'Parainfluenza_3', 'Hematocrit', 'Hemoglobin', 'Parainfluenza_1', 'Influenza_A']\n",
      "37 ['Platelets', 'Eosinophils', 'Leukocytes', 'Monocytes', 'Patient_age_quantile', 'Influenza_B', 'Basophils', 'detected', 'Patient_addmited_to_intensive_care_unit', 'Rhinovirus_Enterovirus', 'Mean_corpuscular_hemoglobin_MCH', 'Red_blood_cell_distribution_width_RDW', 'Patient_addmited_to_regular_ward', 'Coronavirus229E', 'Mean_corpuscular_volume_MCV', 'Mean_corpuscular_hemoglobin_concentration_MCHC', 'Mean_platelet_volume', 'Inf_A_H1N1_2009', 'Respiratory_Syncytial_Virus', 'Patient_addmited_to_semi_intensive_unit', 'Influenza_B_rapid_test', 'CoronavirusOC43', 'Coronavirus_HKU1', 'Parainfluenza_4', 'CoronavirusNL63', 'Lymphocytes', 'Red_blood_Cells', 'Chlamydophila_pneumoniae', 'Metapneumovirus', 'Bordetella_pertussis', 'Influenza_A_rapid_test', 'Parainfluenza_3', 'Hematocrit', 'Hemoglobin', 'Parainfluenza_1', 'Influenza_A', 'Adenovirus']\n"
     ]
    }
   ],
   "source": [
    "models = pd.DataFrame(columns=['RSS', 'model'])\n",
    "predictors = []\n",
    "for i in range(1, len(X_train.columns)+1):\n",
    "    models.loc[i] = forward(predictors)\n",
    "    exog = models.loc[i]['model'].model.exog_names.copy()\n",
    "    exog.remove('Intercept') #smf will automatically adds intercept\n",
    "    predictors = exog\n",
    "    print(i, predictors)"
   ]
  },
  {
   "cell_type": "code",
   "execution_count": 297,
   "id": "0901d110-be19-482b-9c51-7208d4943b4d",
   "metadata": {},
   "outputs": [
    {
     "data": {
      "text/plain": [
       "24"
      ]
     },
     "execution_count": 297,
     "metadata": {},
     "output_type": "execute_result"
    }
   ],
   "source": [
    "aic_f = []\n",
    "\n",
    "for m in models.model:\n",
    "    aic_f.append(m.aic)\n",
    "    \n",
    "np.array(aic_f).argmin()"
   ]
  },
  {
   "cell_type": "code",
   "execution_count": 298,
   "id": "e3063cf4-e89b-4888-8d07-93fd52792016",
   "metadata": {},
   "outputs": [
    {
     "name": "stdout",
     "output_type": "stream",
     "text": [
      "['Platelets', 'Eosinophils', 'Leukocytes', 'Monocytes', 'Patient_age_quantile', 'Influenza_B', 'Basophils', 'detected', 'Patient_addmited_to_intensive_care_unit', 'Rhinovirus_Enterovirus', 'Mean_corpuscular_hemoglobin_MCH', 'Red_blood_cell_distribution_width_RDW', 'Patient_addmited_to_regular_ward', 'Coronavirus229E', 'Mean_corpuscular_volume_MCV', 'Mean_corpuscular_hemoglobin_concentration_MCHC', 'Mean_platelet_volume', 'Inf_A_H1N1_2009', 'Respiratory_Syncytial_Virus', 'Patient_addmited_to_semi_intensive_unit', 'Influenza_B_rapid_test', 'CoronavirusOC43', 'Coronavirus_HKU1', 'Parainfluenza_4']\n"
     ]
    }
   ],
   "source": [
    "print(models['model'][24].model.exog_names[1:]) # Do not print Intercept"
   ]
  },
  {
   "cell_type": "markdown",
   "id": "73d0e746-c385-44e3-822b-280a2bc12a8d",
   "metadata": {},
   "source": [
    "## **Backward selection**"
   ]
  },
  {
   "cell_type": "code",
   "execution_count": 299,
   "id": "bc452a48-8499-43b7-a82f-4e9185d5843a",
   "metadata": {},
   "outputs": [
    {
     "name": "stdout",
     "output_type": "stream",
     "text": [
      "36 ['Patient_age_quantile', 'Patient_addmited_to_regular_ward', 'Patient_addmited_to_semi_intensive_unit', 'Patient_addmited_to_intensive_care_unit', 'Hematocrit', 'Hemoglobin', 'Platelets', 'Mean_platelet_volume', 'Red_blood_Cells', 'Lymphocytes', 'Mean_corpuscular_hemoglobin_concentration_MCHC', 'Leukocytes', 'Basophils', 'Mean_corpuscular_hemoglobin_MCH', 'Eosinophils', 'Mean_corpuscular_volume_MCV', 'Monocytes', 'Red_blood_cell_distribution_width_RDW', 'Respiratory_Syncytial_Virus', 'Influenza_A', 'Influenza_B', 'Parainfluenza_1', 'CoronavirusNL63', 'Rhinovirus_Enterovirus', 'Coronavirus_HKU1', 'Parainfluenza_3', 'Chlamydophila_pneumoniae', 'Parainfluenza_4', 'Coronavirus229E', 'CoronavirusOC43', 'Inf_A_H1N1_2009', 'Bordetella_pertussis', 'Metapneumovirus', 'Influenza_B_rapid_test', 'Influenza_A_rapid_test', 'detected']\n",
      "35 ['Patient_age_quantile', 'Patient_addmited_to_regular_ward', 'Patient_addmited_to_semi_intensive_unit', 'Patient_addmited_to_intensive_care_unit', 'Hematocrit', 'Hemoglobin', 'Platelets', 'Mean_platelet_volume', 'Red_blood_Cells', 'Lymphocytes', 'Mean_corpuscular_hemoglobin_concentration_MCHC', 'Leukocytes', 'Basophils', 'Mean_corpuscular_hemoglobin_MCH', 'Eosinophils', 'Mean_corpuscular_volume_MCV', 'Monocytes', 'Red_blood_cell_distribution_width_RDW', 'Respiratory_Syncytial_Virus', 'Influenza_B', 'Parainfluenza_1', 'CoronavirusNL63', 'Rhinovirus_Enterovirus', 'Coronavirus_HKU1', 'Parainfluenza_3', 'Chlamydophila_pneumoniae', 'Parainfluenza_4', 'Coronavirus229E', 'CoronavirusOC43', 'Inf_A_H1N1_2009', 'Bordetella_pertussis', 'Metapneumovirus', 'Influenza_B_rapid_test', 'Influenza_A_rapid_test', 'detected']\n",
      "34 ['Patient_age_quantile', 'Patient_addmited_to_regular_ward', 'Patient_addmited_to_semi_intensive_unit', 'Patient_addmited_to_intensive_care_unit', 'Hematocrit', 'Hemoglobin', 'Platelets', 'Mean_platelet_volume', 'Red_blood_Cells', 'Lymphocytes', 'Mean_corpuscular_hemoglobin_concentration_MCHC', 'Leukocytes', 'Basophils', 'Mean_corpuscular_hemoglobin_MCH', 'Eosinophils', 'Mean_corpuscular_volume_MCV', 'Monocytes', 'Red_blood_cell_distribution_width_RDW', 'Respiratory_Syncytial_Virus', 'Influenza_B', 'CoronavirusNL63', 'Rhinovirus_Enterovirus', 'Coronavirus_HKU1', 'Parainfluenza_3', 'Chlamydophila_pneumoniae', 'Parainfluenza_4', 'Coronavirus229E', 'CoronavirusOC43', 'Inf_A_H1N1_2009', 'Bordetella_pertussis', 'Metapneumovirus', 'Influenza_B_rapid_test', 'Influenza_A_rapid_test', 'detected']\n",
      "33 ['Patient_age_quantile', 'Patient_addmited_to_regular_ward', 'Patient_addmited_to_semi_intensive_unit', 'Patient_addmited_to_intensive_care_unit', 'Hematocrit', 'Hemoglobin', 'Platelets', 'Mean_platelet_volume', 'Lymphocytes', 'Mean_corpuscular_hemoglobin_concentration_MCHC', 'Leukocytes', 'Basophils', 'Mean_corpuscular_hemoglobin_MCH', 'Eosinophils', 'Mean_corpuscular_volume_MCV', 'Monocytes', 'Red_blood_cell_distribution_width_RDW', 'Respiratory_Syncytial_Virus', 'Influenza_B', 'CoronavirusNL63', 'Rhinovirus_Enterovirus', 'Coronavirus_HKU1', 'Parainfluenza_3', 'Chlamydophila_pneumoniae', 'Parainfluenza_4', 'Coronavirus229E', 'CoronavirusOC43', 'Inf_A_H1N1_2009', 'Bordetella_pertussis', 'Metapneumovirus', 'Influenza_B_rapid_test', 'Influenza_A_rapid_test', 'detected']\n",
      "32 ['Patient_age_quantile', 'Patient_addmited_to_regular_ward', 'Patient_addmited_to_semi_intensive_unit', 'Patient_addmited_to_intensive_care_unit', 'Hematocrit', 'Hemoglobin', 'Platelets', 'Mean_platelet_volume', 'Lymphocytes', 'Mean_corpuscular_hemoglobin_concentration_MCHC', 'Leukocytes', 'Basophils', 'Mean_corpuscular_hemoglobin_MCH', 'Eosinophils', 'Mean_corpuscular_volume_MCV', 'Monocytes', 'Red_blood_cell_distribution_width_RDW', 'Respiratory_Syncytial_Virus', 'Influenza_B', 'CoronavirusNL63', 'Rhinovirus_Enterovirus', 'Coronavirus_HKU1', 'Parainfluenza_3', 'Chlamydophila_pneumoniae', 'Parainfluenza_4', 'Coronavirus229E', 'CoronavirusOC43', 'Inf_A_H1N1_2009', 'Bordetella_pertussis', 'Influenza_B_rapid_test', 'Influenza_A_rapid_test', 'detected']\n",
      "31 ['Patient_age_quantile', 'Patient_addmited_to_regular_ward', 'Patient_addmited_to_semi_intensive_unit', 'Patient_addmited_to_intensive_care_unit', 'Hemoglobin', 'Platelets', 'Mean_platelet_volume', 'Lymphocytes', 'Mean_corpuscular_hemoglobin_concentration_MCHC', 'Leukocytes', 'Basophils', 'Mean_corpuscular_hemoglobin_MCH', 'Eosinophils', 'Mean_corpuscular_volume_MCV', 'Monocytes', 'Red_blood_cell_distribution_width_RDW', 'Respiratory_Syncytial_Virus', 'Influenza_B', 'CoronavirusNL63', 'Rhinovirus_Enterovirus', 'Coronavirus_HKU1', 'Parainfluenza_3', 'Chlamydophila_pneumoniae', 'Parainfluenza_4', 'Coronavirus229E', 'CoronavirusOC43', 'Inf_A_H1N1_2009', 'Bordetella_pertussis', 'Influenza_B_rapid_test', 'Influenza_A_rapid_test', 'detected']\n",
      "30 ['Patient_age_quantile', 'Patient_addmited_to_regular_ward', 'Patient_addmited_to_semi_intensive_unit', 'Patient_addmited_to_intensive_care_unit', 'Hemoglobin', 'Platelets', 'Mean_platelet_volume', 'Lymphocytes', 'Mean_corpuscular_hemoglobin_concentration_MCHC', 'Leukocytes', 'Basophils', 'Mean_corpuscular_hemoglobin_MCH', 'Eosinophils', 'Mean_corpuscular_volume_MCV', 'Monocytes', 'Red_blood_cell_distribution_width_RDW', 'Respiratory_Syncytial_Virus', 'Influenza_B', 'CoronavirusNL63', 'Rhinovirus_Enterovirus', 'Coronavirus_HKU1', 'Chlamydophila_pneumoniae', 'Parainfluenza_4', 'Coronavirus229E', 'CoronavirusOC43', 'Inf_A_H1N1_2009', 'Bordetella_pertussis', 'Influenza_B_rapid_test', 'Influenza_A_rapid_test', 'detected']\n",
      "29 ['Patient_age_quantile', 'Patient_addmited_to_regular_ward', 'Patient_addmited_to_semi_intensive_unit', 'Patient_addmited_to_intensive_care_unit', 'Hemoglobin', 'Platelets', 'Mean_platelet_volume', 'Lymphocytes', 'Mean_corpuscular_hemoglobin_concentration_MCHC', 'Leukocytes', 'Basophils', 'Mean_corpuscular_hemoglobin_MCH', 'Eosinophils', 'Mean_corpuscular_volume_MCV', 'Monocytes', 'Red_blood_cell_distribution_width_RDW', 'Respiratory_Syncytial_Virus', 'Influenza_B', 'CoronavirusNL63', 'Rhinovirus_Enterovirus', 'Coronavirus_HKU1', 'Chlamydophila_pneumoniae', 'Parainfluenza_4', 'Coronavirus229E', 'CoronavirusOC43', 'Inf_A_H1N1_2009', 'Influenza_B_rapid_test', 'Influenza_A_rapid_test', 'detected']\n",
      "28 ['Patient_age_quantile', 'Patient_addmited_to_regular_ward', 'Patient_addmited_to_semi_intensive_unit', 'Patient_addmited_to_intensive_care_unit', 'Hemoglobin', 'Platelets', 'Mean_platelet_volume', 'Lymphocytes', 'Mean_corpuscular_hemoglobin_concentration_MCHC', 'Leukocytes', 'Basophils', 'Mean_corpuscular_hemoglobin_MCH', 'Eosinophils', 'Mean_corpuscular_volume_MCV', 'Monocytes', 'Red_blood_cell_distribution_width_RDW', 'Respiratory_Syncytial_Virus', 'Influenza_B', 'CoronavirusNL63', 'Rhinovirus_Enterovirus', 'Coronavirus_HKU1', 'Chlamydophila_pneumoniae', 'Parainfluenza_4', 'Coronavirus229E', 'CoronavirusOC43', 'Inf_A_H1N1_2009', 'Influenza_B_rapid_test', 'detected']\n",
      "27 ['Patient_age_quantile', 'Patient_addmited_to_regular_ward', 'Patient_addmited_to_semi_intensive_unit', 'Patient_addmited_to_intensive_care_unit', 'Hemoglobin', 'Platelets', 'Mean_platelet_volume', 'Lymphocytes', 'Mean_corpuscular_hemoglobin_concentration_MCHC', 'Leukocytes', 'Basophils', 'Mean_corpuscular_hemoglobin_MCH', 'Eosinophils', 'Mean_corpuscular_volume_MCV', 'Monocytes', 'Red_blood_cell_distribution_width_RDW', 'Respiratory_Syncytial_Virus', 'Influenza_B', 'CoronavirusNL63', 'Rhinovirus_Enterovirus', 'Coronavirus_HKU1', 'Parainfluenza_4', 'Coronavirus229E', 'CoronavirusOC43', 'Inf_A_H1N1_2009', 'Influenza_B_rapid_test', 'detected']\n",
      "26 ['Patient_age_quantile', 'Patient_addmited_to_regular_ward', 'Patient_addmited_to_semi_intensive_unit', 'Patient_addmited_to_intensive_care_unit', 'Platelets', 'Mean_platelet_volume', 'Lymphocytes', 'Mean_corpuscular_hemoglobin_concentration_MCHC', 'Leukocytes', 'Basophils', 'Mean_corpuscular_hemoglobin_MCH', 'Eosinophils', 'Mean_corpuscular_volume_MCV', 'Monocytes', 'Red_blood_cell_distribution_width_RDW', 'Respiratory_Syncytial_Virus', 'Influenza_B', 'CoronavirusNL63', 'Rhinovirus_Enterovirus', 'Coronavirus_HKU1', 'Parainfluenza_4', 'Coronavirus229E', 'CoronavirusOC43', 'Inf_A_H1N1_2009', 'Influenza_B_rapid_test', 'detected']\n",
      "25 ['Patient_age_quantile', 'Patient_addmited_to_regular_ward', 'Patient_addmited_to_semi_intensive_unit', 'Patient_addmited_to_intensive_care_unit', 'Platelets', 'Mean_platelet_volume', 'Mean_corpuscular_hemoglobin_concentration_MCHC', 'Leukocytes', 'Basophils', 'Mean_corpuscular_hemoglobin_MCH', 'Eosinophils', 'Mean_corpuscular_volume_MCV', 'Monocytes', 'Red_blood_cell_distribution_width_RDW', 'Respiratory_Syncytial_Virus', 'Influenza_B', 'CoronavirusNL63', 'Rhinovirus_Enterovirus', 'Coronavirus_HKU1', 'Parainfluenza_4', 'Coronavirus229E', 'CoronavirusOC43', 'Inf_A_H1N1_2009', 'Influenza_B_rapid_test', 'detected']\n",
      "24 ['Patient_age_quantile', 'Patient_addmited_to_regular_ward', 'Patient_addmited_to_semi_intensive_unit', 'Patient_addmited_to_intensive_care_unit', 'Platelets', 'Mean_platelet_volume', 'Mean_corpuscular_hemoglobin_concentration_MCHC', 'Leukocytes', 'Basophils', 'Mean_corpuscular_hemoglobin_MCH', 'Eosinophils', 'Mean_corpuscular_volume_MCV', 'Monocytes', 'Red_blood_cell_distribution_width_RDW', 'Respiratory_Syncytial_Virus', 'Influenza_B', 'Rhinovirus_Enterovirus', 'Coronavirus_HKU1', 'Parainfluenza_4', 'Coronavirus229E', 'CoronavirusOC43', 'Inf_A_H1N1_2009', 'Influenza_B_rapid_test', 'detected']\n",
      "23 ['Patient_age_quantile', 'Patient_addmited_to_regular_ward', 'Patient_addmited_to_semi_intensive_unit', 'Patient_addmited_to_intensive_care_unit', 'Platelets', 'Mean_platelet_volume', 'Mean_corpuscular_hemoglobin_concentration_MCHC', 'Leukocytes', 'Basophils', 'Mean_corpuscular_hemoglobin_MCH', 'Eosinophils', 'Mean_corpuscular_volume_MCV', 'Monocytes', 'Red_blood_cell_distribution_width_RDW', 'Respiratory_Syncytial_Virus', 'Influenza_B', 'Rhinovirus_Enterovirus', 'Coronavirus_HKU1', 'Coronavirus229E', 'CoronavirusOC43', 'Inf_A_H1N1_2009', 'Influenza_B_rapid_test', 'detected']\n",
      "22 ['Patient_age_quantile', 'Patient_addmited_to_regular_ward', 'Patient_addmited_to_semi_intensive_unit', 'Patient_addmited_to_intensive_care_unit', 'Platelets', 'Mean_platelet_volume', 'Mean_corpuscular_hemoglobin_concentration_MCHC', 'Leukocytes', 'Basophils', 'Mean_corpuscular_hemoglobin_MCH', 'Eosinophils', 'Mean_corpuscular_volume_MCV', 'Monocytes', 'Red_blood_cell_distribution_width_RDW', 'Respiratory_Syncytial_Virus', 'Influenza_B', 'Rhinovirus_Enterovirus', 'Coronavirus229E', 'CoronavirusOC43', 'Inf_A_H1N1_2009', 'Influenza_B_rapid_test', 'detected']\n",
      "21 ['Patient_age_quantile', 'Patient_addmited_to_regular_ward', 'Patient_addmited_to_semi_intensive_unit', 'Patient_addmited_to_intensive_care_unit', 'Platelets', 'Mean_platelet_volume', 'Mean_corpuscular_hemoglobin_concentration_MCHC', 'Leukocytes', 'Basophils', 'Mean_corpuscular_hemoglobin_MCH', 'Eosinophils', 'Mean_corpuscular_volume_MCV', 'Monocytes', 'Red_blood_cell_distribution_width_RDW', 'Respiratory_Syncytial_Virus', 'Influenza_B', 'Rhinovirus_Enterovirus', 'Coronavirus229E', 'Inf_A_H1N1_2009', 'Influenza_B_rapid_test', 'detected']\n",
      "20 ['Patient_age_quantile', 'Patient_addmited_to_regular_ward', 'Patient_addmited_to_semi_intensive_unit', 'Patient_addmited_to_intensive_care_unit', 'Platelets', 'Mean_platelet_volume', 'Mean_corpuscular_hemoglobin_concentration_MCHC', 'Leukocytes', 'Basophils', 'Mean_corpuscular_hemoglobin_MCH', 'Eosinophils', 'Mean_corpuscular_volume_MCV', 'Monocytes', 'Red_blood_cell_distribution_width_RDW', 'Respiratory_Syncytial_Virus', 'Influenza_B', 'Rhinovirus_Enterovirus', 'Coronavirus229E', 'Inf_A_H1N1_2009', 'detected']\n",
      "19 ['Patient_age_quantile', 'Patient_addmited_to_regular_ward', 'Patient_addmited_to_intensive_care_unit', 'Platelets', 'Mean_platelet_volume', 'Mean_corpuscular_hemoglobin_concentration_MCHC', 'Leukocytes', 'Basophils', 'Mean_corpuscular_hemoglobin_MCH', 'Eosinophils', 'Mean_corpuscular_volume_MCV', 'Monocytes', 'Red_blood_cell_distribution_width_RDW', 'Respiratory_Syncytial_Virus', 'Influenza_B', 'Rhinovirus_Enterovirus', 'Coronavirus229E', 'Inf_A_H1N1_2009', 'detected']\n",
      "18 ['Patient_age_quantile', 'Patient_addmited_to_regular_ward', 'Patient_addmited_to_intensive_care_unit', 'Platelets', 'Mean_platelet_volume', 'Mean_corpuscular_hemoglobin_concentration_MCHC', 'Leukocytes', 'Basophils', 'Mean_corpuscular_hemoglobin_MCH', 'Eosinophils', 'Mean_corpuscular_volume_MCV', 'Monocytes', 'Red_blood_cell_distribution_width_RDW', 'Influenza_B', 'Rhinovirus_Enterovirus', 'Coronavirus229E', 'Inf_A_H1N1_2009', 'detected']\n",
      "17 ['Patient_age_quantile', 'Patient_addmited_to_regular_ward', 'Patient_addmited_to_intensive_care_unit', 'Platelets', 'Mean_platelet_volume', 'Mean_corpuscular_hemoglobin_concentration_MCHC', 'Leukocytes', 'Basophils', 'Mean_corpuscular_hemoglobin_MCH', 'Eosinophils', 'Mean_corpuscular_volume_MCV', 'Monocytes', 'Red_blood_cell_distribution_width_RDW', 'Influenza_B', 'Rhinovirus_Enterovirus', 'Coronavirus229E', 'detected']\n",
      "16 ['Patient_age_quantile', 'Patient_addmited_to_regular_ward', 'Patient_addmited_to_intensive_care_unit', 'Platelets', 'Mean_platelet_volume', 'Mean_corpuscular_hemoglobin_concentration_MCHC', 'Leukocytes', 'Basophils', 'Mean_corpuscular_hemoglobin_MCH', 'Eosinophils', 'Mean_corpuscular_volume_MCV', 'Monocytes', 'Influenza_B', 'Rhinovirus_Enterovirus', 'Coronavirus229E', 'detected']\n",
      "15 ['Patient_age_quantile', 'Patient_addmited_to_regular_ward', 'Patient_addmited_to_intensive_care_unit', 'Platelets', 'Mean_platelet_volume', 'Mean_corpuscular_hemoglobin_concentration_MCHC', 'Leukocytes', 'Basophils', 'Mean_corpuscular_hemoglobin_MCH', 'Eosinophils', 'Mean_corpuscular_volume_MCV', 'Monocytes', 'Influenza_B', 'Rhinovirus_Enterovirus', 'detected']\n",
      "14 ['Patient_age_quantile', 'Patient_addmited_to_regular_ward', 'Patient_addmited_to_intensive_care_unit', 'Platelets', 'Mean_corpuscular_hemoglobin_concentration_MCHC', 'Leukocytes', 'Basophils', 'Mean_corpuscular_hemoglobin_MCH', 'Eosinophils', 'Mean_corpuscular_volume_MCV', 'Monocytes', 'Influenza_B', 'Rhinovirus_Enterovirus', 'detected']\n",
      "13 ['Patient_age_quantile', 'Patient_addmited_to_intensive_care_unit', 'Platelets', 'Mean_corpuscular_hemoglobin_concentration_MCHC', 'Leukocytes', 'Basophils', 'Mean_corpuscular_hemoglobin_MCH', 'Eosinophils', 'Mean_corpuscular_volume_MCV', 'Monocytes', 'Influenza_B', 'Rhinovirus_Enterovirus', 'detected']\n",
      "12 ['Patient_age_quantile', 'Patient_addmited_to_intensive_care_unit', 'Platelets', 'Mean_corpuscular_hemoglobin_concentration_MCHC', 'Leukocytes', 'Basophils', 'Mean_corpuscular_hemoglobin_MCH', 'Eosinophils', 'Mean_corpuscular_volume_MCV', 'Monocytes', 'Influenza_B', 'detected']\n",
      "11 ['Patient_age_quantile', 'Platelets', 'Mean_corpuscular_hemoglobin_concentration_MCHC', 'Leukocytes', 'Basophils', 'Mean_corpuscular_hemoglobin_MCH', 'Eosinophils', 'Mean_corpuscular_volume_MCV', 'Monocytes', 'Influenza_B', 'detected']\n",
      "10 ['Patient_age_quantile', 'Platelets', 'Mean_corpuscular_hemoglobin_concentration_MCHC', 'Leukocytes', 'Basophils', 'Mean_corpuscular_hemoglobin_MCH', 'Eosinophils', 'Mean_corpuscular_volume_MCV', 'Monocytes', 'detected']\n",
      "9 ['Patient_age_quantile', 'Mean_corpuscular_hemoglobin_concentration_MCHC', 'Leukocytes', 'Basophils', 'Mean_corpuscular_hemoglobin_MCH', 'Eosinophils', 'Mean_corpuscular_volume_MCV', 'Monocytes', 'detected']\n",
      "8 ['Mean_corpuscular_hemoglobin_concentration_MCHC', 'Leukocytes', 'Basophils', 'Mean_corpuscular_hemoglobin_MCH', 'Eosinophils', 'Mean_corpuscular_volume_MCV', 'Monocytes', 'detected']\n",
      "7 ['Mean_corpuscular_hemoglobin_concentration_MCHC', 'Leukocytes', 'Basophils', 'Mean_corpuscular_hemoglobin_MCH', 'Eosinophils', 'Monocytes', 'detected']\n",
      "6 ['Leukocytes', 'Basophils', 'Mean_corpuscular_hemoglobin_MCH', 'Eosinophils', 'Monocytes', 'detected']\n",
      "5 ['Leukocytes', 'Basophils', 'Eosinophils', 'Monocytes', 'detected']\n",
      "4 ['Leukocytes', 'Basophils', 'Eosinophils', 'Monocytes']\n",
      "3 ['Leukocytes', 'Eosinophils', 'Monocytes']\n",
      "2 ['Leukocytes', 'Eosinophils']\n",
      "1 ['Eosinophils']\n"
     ]
    }
   ],
   "source": [
    "def backward(predictors):\n",
    "    results = []\n",
    "    for combo in itertools.combinations(predictors, len(predictors)-1):\n",
    "        results.append(processSubset(combo))\n",
    "    # Wrap everything up in a nice dataframe\n",
    "    models = pd.DataFrame(results)\n",
    "    # Choose the model with the lowest RSS\n",
    "    best_model = models.loc[models['RSS'].argmin()]\n",
    "    return best_model\n",
    "models2 = pd.DataFrame(columns=['RSS', 'model'], index = range(1, len(X_train.columns)))\n",
    "\n",
    "\n",
    "\n",
    "predictors = X_train.columns\n",
    "models2.loc[len(predictors)] = processSubset(predictors)\n",
    "\n",
    "while(len(predictors) > 1):\n",
    "    models2.loc[len(predictors)-1] = backward(predictors)\n",
    "    exog = models2.loc[len(predictors)-1]['model'].model.exog_names.copy()\n",
    "    exog.remove('Intercept')\n",
    "    predictors = exog\n",
    "    print(len(predictors), predictors)"
   ]
  },
  {
   "cell_type": "code",
   "execution_count": 300,
   "id": "041d14c5-bb7c-4eb5-b3b6-453ea0c60442",
   "metadata": {},
   "outputs": [
    {
     "data": {
      "text/plain": [
       "24"
      ]
     },
     "execution_count": 300,
     "metadata": {},
     "output_type": "execute_result"
    }
   ],
   "source": [
    "aic_b = []\n",
    "\n",
    "for m in models2.model:\n",
    "    aic_b.append(m.aic)\n",
    "\n",
    "np.array(aic_b).argmin()"
   ]
  },
  {
   "cell_type": "code",
   "execution_count": 301,
   "id": "2a434404-3249-4440-8209-65349e80e5ad",
   "metadata": {},
   "outputs": [
    {
     "name": "stdout",
     "output_type": "stream",
     "text": [
      "['Patient_age_quantile', 'Patient_addmited_to_regular_ward', 'Patient_addmited_to_semi_intensive_unit', 'Patient_addmited_to_intensive_care_unit', 'Platelets', 'Mean_platelet_volume', 'Mean_corpuscular_hemoglobin_concentration_MCHC', 'Leukocytes', 'Basophils', 'Mean_corpuscular_hemoglobin_MCH', 'Eosinophils', 'Mean_corpuscular_volume_MCV', 'Monocytes', 'Red_blood_cell_distribution_width_RDW', 'Respiratory_Syncytial_Virus', 'Influenza_B', 'Rhinovirus_Enterovirus', 'Coronavirus_HKU1', 'Parainfluenza_4', 'Coronavirus229E', 'CoronavirusOC43', 'Inf_A_H1N1_2009', 'Influenza_B_rapid_test', 'detected']\n"
     ]
    }
   ],
   "source": [
    "print(models2['model'][24].model.exog_names[1:])"
   ]
  },
  {
   "cell_type": "markdown",
   "id": "493f24a6-59f4-406a-a303-b6de52e122ee",
   "metadata": {
    "tags": []
   },
   "source": [
    "## SMOTE(用來處理imbalance data)"
   ]
  },
  {
   "cell_type": "code",
   "execution_count": 306,
   "id": "6a64f30e-4c13-436c-8c9a-9938d1c459ea",
   "metadata": {},
   "outputs": [
    {
     "data": {
      "text/plain": [
       "array([4064, 4064])"
      ]
     },
     "execution_count": 306,
     "metadata": {},
     "output_type": "execute_result"
    }
   ],
   "source": [
    "from imblearn.over_sampling import SMOTE\n",
    "smt = SMOTE(k_neighbors=5, random_state=42)\n",
    "X_scaled, y_train = smt.fit_resample(X_scaled, y_train)\n",
    "\n",
    "np.bincount(y_train)"
   ]
  },
  {
   "cell_type": "code",
   "execution_count": 303,
   "id": "a1b981b5-61cc-4ada-9ea7-c4f9bed4c44d",
   "metadata": {},
   "outputs": [],
   "source": [
    "# !pip install imblearn"
   ]
  },
  {
   "cell_type": "code",
   "execution_count": 307,
   "id": "dd5956d1-2361-4f36-9974-c3e58ee4633b",
   "metadata": {},
   "outputs": [
    {
     "data": {
      "text/plain": [
       "array([[-0.04257601, -0.12273121, -0.09805807, ..., -0.09089894,\n",
       "        -0.09572909, -0.38808713],\n",
       "       [-1.07792984, -0.12273121, -0.09805807, ..., -0.09089894,\n",
       "        -0.09572909, -0.38808713],\n",
       "       [ 0.82021884, -0.12273121, -0.09805807, ..., -0.09089894,\n",
       "        -0.09572909, -0.38808713],\n",
       "       ...,\n",
       "       [ 0.82021884, -0.12273121, -0.09805807, ..., -0.09089894,\n",
       "        -0.09572909, -0.38808713],\n",
       "       [ 0.12998296, -0.12273121, -0.09805807, ..., -0.09089894,\n",
       "        -0.09572909, -0.38808713],\n",
       "       [ 1.51045473, -0.12273121, -0.09805807, ..., -0.09089894,\n",
       "        -0.09572909, -0.38808713]])"
      ]
     },
     "execution_count": 307,
     "metadata": {},
     "output_type": "execute_result"
    }
   ],
   "source": [
    "X_scaled"
   ]
  },
  {
   "cell_type": "markdown",
   "id": "b60a8876-306c-4c75-a3e3-89e31387b320",
   "metadata": {},
   "source": [
    "## Logistic regression"
   ]
  },
  {
   "cell_type": "code",
   "execution_count": 322,
   "id": "c33e4e26-c5dc-4a80-993e-b8ef06eb4f8a",
   "metadata": {},
   "outputs": [],
   "source": [
    "# X_scaled, y_train\n",
    "# X_test_scaled, y_test\n",
    "from sklearn.model_selection import KFold\n",
    "from sklearn.model_selection import cross_val_score\n",
    "from sklearn.linear_model import LogisticRegression\n",
    "from sklearn.metrics import confusion_matrix\n",
    "from sklearn import metrics"
   ]
  },
  {
   "cell_type": "code",
   "execution_count": 323,
   "id": "4f9ebd73-972e-490a-8e42-680c5a782284",
   "metadata": {},
   "outputs": [],
   "source": [
    "scaled_X = scaled.iloc[:, :-1]\n",
    "scaled_y = scaled.iloc[:, -1]"
   ]
  },
  {
   "cell_type": "code",
   "execution_count": 334,
   "id": "fc585c41-1248-4595-874a-10c620780c2f",
   "metadata": {},
   "outputs": [
    {
     "name": "stdout",
     "output_type": "stream",
     "text": [
      "Accuracy: 0.984 (0.017)\n",
      "AUC: 0.981 (0.045)\n"
     ]
    }
   ],
   "source": [
    "from numpy import mean\n",
    "from numpy import std\n",
    "from sklearn.model_selection import KFold\n",
    "from sklearn.model_selection import cross_val_score\n",
    "from sklearn.linear_model import LogisticRegression\n",
    "\n",
    "cv = KFold(n_splits=100, random_state=1, shuffle=True)\n",
    "model = LogisticRegression()\n",
    "scores = cross_val_score(model, scaled_X, scaled_y, scoring='accuracy', cv=cv, n_jobs=-1)\n",
    "print('Accuracy: %.3f (%.3f)' % (mean(scores), std(scores)))\n",
    "\n",
    "scores = cross_val_score(model, scaled_X, scaled_y, scoring='roc_auc', cv=cv, n_jobs=-1)\n",
    "print('AUC: %.3f (%.3f)' % (mean(scores), std(scores)))"
   ]
  },
  {
   "cell_type": "code",
   "execution_count": 333,
   "id": "e05191ca-7b3d-44f1-99cb-e15eb647c0fd",
   "metadata": {
    "jupyter": {
     "source_hidden": true
    },
    "tags": []
   },
   "outputs": [],
   "source": [
    "# kf = KFold(n_splits=10, shuffle=True, random_state=1)\n",
    "# train_rmse_ = []\n",
    "# train_mae_ = []\n",
    "# val_rmse_ = []\n",
    "# val_mae_ = []\n",
    "\n",
    "# for train_index, test_index in kf.split(scaled):\n",
    "#     X_train, X_test = scaled_X.iloc[train_index], scaled_X.iloc[test_index]\n",
    "#     y_train, y_test = scaled_y.iloc[train_index], scaled_y.iloc[test_index]\n",
    "    \n",
    "    \n",
    "#     clf = LogisticRegression(random_state=0).fit(X_train, y_train)\n",
    "#     clf.fit(X_train, y_train)\n",
    "#     train_predicted = clf.predict(X_train)\n",
    "#     test_predicted = clf.predict(X_test)\n",
    "    \n",
    "#     report = metrics.classification_report(y_test, test_predicted)\n",
    "#     print(report)\n",
    "    \n",
    "    \n",
    "    \n",
    "# #     clf.predict(X[:2, :])\n",
    "\n",
    "# #     clf.predict_proba(X[:2, :])\n",
    "# #     clf.score(X, y)\n",
    "\n",
    "    \n",
    "    \n",
    "    \n",
    "    \n",
    "    \n",
    "    \n",
    "    \n",
    "    \n",
    "    \n",
    "\n",
    "# #     train_rmse.append(sqrt(mean_squared_error(X_train, X_proj)))\n",
    "# #     val_rmse.append(sqrt(mean_squared_error(X_test, X_proj_te)))\n",
    "# #     train_mae.append(mean_absolute_error(X_train, X_proj))\n",
    "# #     val_mae.append(mean_absolute_error(X_test, X_proj_te))\n",
    "# # train_rmse_.append(np.mean(train_rmse))\n",
    "# # val_rmse_.append(np.mean(val_rmse))\n",
    "# # train_mae_.append(np.mean(train_mae))\n",
    "# # val_mae_.append(np.mean(val_mae))\n",
    "        \n",
    "# # #  draw error\n",
    "# # plt.figure(figsize=[15, 8])\n",
    "# # plt.subplot(2, 2, 1)\n",
    "# # plt.title(\"train/val rmse\")\n",
    "# # plt.plot(range(1, 40), train_rmse_, label='train_rmse')\n",
    "# # plt.plot(range(1, 40), val_rmse_, label='val_rmse')\n",
    "# # plt.legend()\n",
    "\n",
    "\n",
    "# # plt.subplot(2, 2, 2)\n",
    "# # plt.title(\"train/val mae\")\n",
    "# # plt.plot(range(1, 40), train_mae_, label='train_mae')\n",
    "# # plt.plot(range(1, 40), val_mae_, label='val_mae')\n",
    "# # plt.legend()\n",
    "\n",
    "# # plt.subplot(2, 2, 3)\n",
    "# # plt.title(\"Screeplot\")\n",
    "# # plt.plot(np.cumsum(pca.explained_variance_ratio_))  # scree plot\n",
    "# # plt.xlabel('number of components')\n",
    "# # plt.ylabel('cumulative explained variance');\n",
    "\n",
    "\n",
    "# # print(val_rmse_[5])\n",
    "# # print(val_mae_[5])"
   ]
  },
  {
   "cell_type": "markdown",
   "id": "7d80beea-3d1a-4d79-befc-7e95c3aaf37e",
   "metadata": {},
   "source": [
    "## random forest"
   ]
  },
  {
   "cell_type": "code",
   "execution_count": 358,
   "id": "d63fecfc-d3e5-420d-b737-06d64638bf64",
   "metadata": {},
   "outputs": [
    {
     "data": {
      "text/plain": [
       "6"
      ]
     },
     "execution_count": 358,
     "metadata": {},
     "output_type": "execute_result"
    }
   ],
   "source": [
    "int(sqrt(scaled.shape[1]))"
   ]
  },
  {
   "cell_type": "code",
   "execution_count": null,
   "id": "e413bbcf-82f9-4edc-91c5-07fdbcef308e",
   "metadata": {},
   "outputs": [
    {
     "name": "stdout",
     "output_type": "stream",
     "text": [
      "Accuracy: 0.988 (0.016)\n",
      "AUC: 0.998 (0.004)\n"
     ]
    }
   ],
   "source": [
    "from sklearn.ensemble import RandomForestClassifier\n",
    "from numpy import sqrt \n",
    "cv = KFold(n_splits=100, random_state=1, shuffle=True)\n",
    "model = RandomForestClassifier(max_features=6, random_state=1)\n",
    "\n",
    "scores = cross_val_score(model, scaled_X, scaled_y, scoring='accuracy', cv=cv, n_jobs=-1)\n",
    "print('Accuracy: %.3f (%.3f)' % (mean(scores), std(scores)))\n",
    "\n",
    "scores = cross_val_score(model, scaled_X, scaled_y, scoring='roc_auc', cv=cv, n_jobs=-1)\n",
    "print('AUC: %.3f (%.3f)' % (mean(scores), std(scores)))"
   ]
  },
  {
   "cell_type": "markdown",
   "id": "d1151411-c71c-49b7-8d4c-31be6537ab8b",
   "metadata": {},
   "source": [
    "**forward**"
   ]
  },
  {
   "cell_type": "code",
   "execution_count": 395,
   "id": "e48941f0-e529-42f4-8ced-8fa3ec1cb1b6",
   "metadata": {},
   "outputs": [
    {
     "name": "stdout",
     "output_type": "stream",
     "text": [
      "Accuracy: 0.988 (0.016)\n",
      "AUC: 0.996 (0.020)\n"
     ]
    }
   ],
   "source": [
    "from sklearn.ensemble import RandomForestClassifier\n",
    "from numpy import sqrt \n",
    "cv = KFold(n_splits=100, random_state=1, shuffle=True)\n",
    "model = RandomForestClassifier(max_features=6, random_state=1)\n",
    "\n",
    "scores = cross_val_score(model, scaled_X[['Platelets', 'Eosinophils', 'Leukocytes', 'Monocytes', 'Patient_age_quantile', 'Influenza_B', 'Basophils', 'detected', 'Patient_addmited_to_intensive_care_unit', 'Rhinovirus_Enterovirus', 'Mean_corpuscular_hemoglobin_MCH', 'Red_blood_cell_distribution_width_RDW', 'Patient_addmited_to_regular_ward', 'Coronavirus229E', 'Mean_corpuscular_volume_MCV', 'Mean_corpuscular_hemoglobin_concentration_MCHC', 'Mean_platelet_volume', 'Inf_A_H1N1_2009', 'Respiratory_Syncytial_Virus', 'Patient_addmited_to_semi_intensive_unit', 'Influenza_B_rapid_test', 'CoronavirusOC43', 'Coronavirus_HKU1', 'Parainfluenza_4']], scaled_y, scoring='accuracy', cv=cv, n_jobs=-1)\n",
    "print('Accuracy: %.3f (%.3f)' % (mean(scores), std(scores)))\n",
    "\n",
    "scores = cross_val_score(model, scaled_X[['Platelets', 'Eosinophils', 'Leukocytes', 'Monocytes', 'Patient_age_quantile', 'Influenza_B', 'Basophils', 'detected', 'Patient_addmited_to_intensive_care_unit', 'Rhinovirus_Enterovirus', 'Mean_corpuscular_hemoglobin_MCH', 'Red_blood_cell_distribution_width_RDW', 'Patient_addmited_to_regular_ward', 'Coronavirus229E', 'Mean_corpuscular_volume_MCV', 'Mean_corpuscular_hemoglobin_concentration_MCHC', 'Mean_platelet_volume', 'Inf_A_H1N1_2009', 'Respiratory_Syncytial_Virus', 'Patient_addmited_to_semi_intensive_unit', 'Influenza_B_rapid_test', 'CoronavirusOC43', 'Coronavirus_HKU1', 'Parainfluenza_4']], scaled_y, scoring='roc_auc', cv=cv, n_jobs=-1)\n",
    "print('AUC: %.3f (%.3f)' % (mean(scores), std(scores)))"
   ]
  },
  {
   "cell_type": "markdown",
   "id": "a115f63f-ee1f-4d56-b4b0-e47e5aa180ae",
   "metadata": {},
   "source": [
    "**backward**"
   ]
  },
  {
   "cell_type": "code",
   "execution_count": 396,
   "id": "bd61512c-ca8e-41b5-b530-d4440c2041b4",
   "metadata": {},
   "outputs": [
    {
     "name": "stdout",
     "output_type": "stream",
     "text": [
      "Accuracy: 0.988 (0.016)\n",
      "AUC: 0.996 (0.020)\n"
     ]
    }
   ],
   "source": [
    "from sklearn.ensemble import RandomForestClassifier\n",
    "from numpy import sqrt \n",
    "cv = KFold(n_splits=100, random_state=1, shuffle=True)\n",
    "model = RandomForestClassifier(max_features=6, random_state=1)\n",
    "\n",
    "scores = cross_val_score(model, scaled_X[['Patient_age_quantile', 'Patient_addmited_to_regular_ward', 'Patient_addmited_to_semi_intensive_unit', 'Patient_addmited_to_intensive_care_unit', 'Platelets', 'Mean_platelet_volume', 'Mean_corpuscular_hemoglobin_concentration_MCHC', 'Leukocytes', 'Basophils', 'Mean_corpuscular_hemoglobin_MCH', 'Eosinophils', 'Mean_corpuscular_volume_MCV', 'Monocytes', 'Red_blood_cell_distribution_width_RDW', 'Respiratory_Syncytial_Virus', 'Influenza_B', 'Rhinovirus_Enterovirus', 'Coronavirus_HKU1', 'Parainfluenza_4', 'Coronavirus229E', 'CoronavirusOC43', 'Inf_A_H1N1_2009', 'Influenza_B_rapid_test', 'detected']], scaled_y, scoring='accuracy', cv=cv, n_jobs=-1)\n",
    "print('Accuracy: %.3f (%.3f)' % (mean(scores), std(scores)))\n",
    "\n",
    "scores = cross_val_score(model, scaled_X[['Patient_age_quantile', 'Patient_addmited_to_regular_ward', 'Patient_addmited_to_semi_intensive_unit', 'Patient_addmited_to_intensive_care_unit', 'Platelets', 'Mean_platelet_volume', 'Mean_corpuscular_hemoglobin_concentration_MCHC', 'Leukocytes', 'Basophils', 'Mean_corpuscular_hemoglobin_MCH', 'Eosinophils', 'Mean_corpuscular_volume_MCV', 'Monocytes', 'Red_blood_cell_distribution_width_RDW', 'Respiratory_Syncytial_Virus', 'Influenza_B', 'Rhinovirus_Enterovirus', 'Coronavirus_HKU1', 'Parainfluenza_4', 'Coronavirus229E', 'CoronavirusOC43', 'Inf_A_H1N1_2009', 'Influenza_B_rapid_test', 'detected']], scaled_y, scoring='roc_auc', cv=cv, n_jobs=-1)\n",
    "print('AUC: %.3f (%.3f)' % (mean(scores), std(scores)))"
   ]
  },
  {
   "cell_type": "markdown",
   "id": "a44b11c9-ace2-4480-9c6b-63c1c5ff4ad5",
   "metadata": {
    "tags": []
   },
   "source": [
    "## Bagging(using SVC)"
   ]
  },
  {
   "cell_type": "code",
   "execution_count": 399,
   "id": "5b31bb67-5459-4c17-b93b-c723393e55a3",
   "metadata": {},
   "outputs": [
    {
     "name": "stdout",
     "output_type": "stream",
     "text": [
      "Accuracy: 0.988 (0.014)\n",
      "AUC: 0.997 (0.013)\n"
     ]
    }
   ],
   "source": [
    "from sklearn.svm import SVC\n",
    "from sklearn.ensemble import BaggingClassifier\n",
    "\n",
    "cv = KFold(n_splits=100, random_state=1, shuffle=True)\n",
    "model = BaggingClassifier(base_estimator=SVC(), n_estimators=10, random_state=1)\n",
    "    \n",
    "scores = cross_val_score(model, scaled_X, scaled_y, scoring='accuracy', cv=cv, n_jobs=-1)\n",
    "print('Accuracy: %.3f (%.3f)' % (mean(scores), std(scores)))\n",
    "\n",
    "scores = cross_val_score(model, scaled_X, scaled_y, scoring='roc_auc', cv=cv, n_jobs=-1)\n",
    "print('AUC: %.3f (%.3f)' % (mean(scores), std(scores)))"
   ]
  },
  {
   "cell_type": "code",
   "execution_count": 401,
   "id": "4f167432-3ccf-45a7-b97f-c8bdf23eb65f",
   "metadata": {},
   "outputs": [
    {
     "name": "stdout",
     "output_type": "stream",
     "text": [
      "Accuracy: 0.988 (0.014)\n",
      "AUC: 0.997 (0.012)\n"
     ]
    }
   ],
   "source": [
    "from sklearn.svm import SVC\n",
    "from sklearn.ensemble import BaggingClassifier\n",
    "\n",
    "cv = KFold(n_splits=100, random_state=1, shuffle=True)\n",
    "model = BaggingClassifier(base_estimator=SVC(), n_estimators=10, random_state=1)\n",
    "    \n",
    "scores = cross_val_score(model, scaled_X[['Patient_age_quantile', 'Patient_addmited_to_regular_ward', 'Patient_addmited_to_semi_intensive_unit', 'Patient_addmited_to_intensive_care_unit', 'Platelets', 'Mean_platelet_volume', 'Mean_corpuscular_hemoglobin_concentration_MCHC', 'Leukocytes', 'Basophils', 'Mean_corpuscular_hemoglobin_MCH', 'Eosinophils', 'Mean_corpuscular_volume_MCV', 'Monocytes', 'Red_blood_cell_distribution_width_RDW', 'Respiratory_Syncytial_Virus', 'Influenza_B', 'Rhinovirus_Enterovirus', 'Coronavirus_HKU1', 'Parainfluenza_4', 'Coronavirus229E', 'CoronavirusOC43', 'Inf_A_H1N1_2009', 'Influenza_B_rapid_test', 'detected']], scaled_y, scoring='accuracy', cv=cv, n_jobs=-1)\n",
    "print('Accuracy: %.3f (%.3f)' % (mean(scores), std(scores)))\n",
    "\n",
    "scores = cross_val_score(model, scaled_X[['Patient_age_quantile', 'Patient_addmited_to_regular_ward', 'Patient_addmited_to_semi_intensive_unit', 'Patient_addmited_to_intensive_care_unit', 'Platelets', 'Mean_platelet_volume', 'Mean_corpuscular_hemoglobin_concentration_MCHC', 'Leukocytes', 'Basophils', 'Mean_corpuscular_hemoglobin_MCH', 'Eosinophils', 'Mean_corpuscular_volume_MCV', 'Monocytes', 'Red_blood_cell_distribution_width_RDW', 'Respiratory_Syncytial_Virus', 'Influenza_B', 'Rhinovirus_Enterovirus', 'Coronavirus_HKU1', 'Parainfluenza_4', 'Coronavirus229E', 'CoronavirusOC43', 'Inf_A_H1N1_2009', 'Influenza_B_rapid_test', 'detected']], scaled_y, scoring='roc_auc', cv=cv, n_jobs=-1)\n",
    "print('AUC: %.3f (%.3f)' % (mean(scores), std(scores)))"
   ]
  },
  {
   "cell_type": "markdown",
   "id": "9c8fd9cd-8efa-40a8-834d-3c67972aac02",
   "metadata": {
    "tags": []
   },
   "source": [
    "## Bagging(using 決策樹)"
   ]
  },
  {
   "cell_type": "code",
   "execution_count": 419,
   "id": "247597fa-63e6-4a43-ac97-c27c8bc15198",
   "metadata": {
    "tags": []
   },
   "outputs": [
    {
     "name": "stdout",
     "output_type": "stream",
     "text": [
      "Accuracy: 0.982 (0.019)\n",
      "AUC: 0.954 (0.059)\n"
     ]
    }
   ],
   "source": [
    "from sklearn.tree import DecisionTreeClassifier\n",
    "model = DecisionTreeClassifier(max_depth=None, min_samples_split=2, random_state=1) \n",
    "scores = cross_val_score(model, scaled_X, scaled_y, scoring='accuracy', cv=cv, n_jobs=-1)\n",
    "print('Accuracy: %.3f (%.3f)' % (mean(scores), std(scores)))\n",
    "\n",
    "scores = cross_val_score(model, scaled_X, scaled_y, scoring='roc_auc', cv=cv, n_jobs=-1)\n",
    "print('AUC: %.3f (%.3f)' % (mean(scores), std(scores)))"
   ]
  },
  {
   "cell_type": "code",
   "execution_count": 420,
   "id": "37d0e9f4-5556-4acc-b92f-2be8317beed6",
   "metadata": {},
   "outputs": [
    {
     "name": "stdout",
     "output_type": "stream",
     "text": [
      "Accuracy: 0.985 (0.016)\n",
      "AUC: 0.959 (0.057)\n"
     ]
    }
   ],
   "source": [
    "model = DecisionTreeClassifier(max_depth=None, min_samples_split=2, random_state=1) \n",
    "scores = cross_val_score(model, scaled_X[['Patient_age_quantile', 'Patient_addmited_to_regular_ward', 'Patient_addmited_to_semi_intensive_unit', 'Patient_addmited_to_intensive_care_unit', 'Platelets', 'Mean_platelet_volume', 'Mean_corpuscular_hemoglobin_concentration_MCHC', 'Leukocytes', 'Basophils', 'Mean_corpuscular_hemoglobin_MCH', 'Eosinophils', 'Mean_corpuscular_volume_MCV', 'Monocytes', 'Red_blood_cell_distribution_width_RDW', 'Respiratory_Syncytial_Virus', 'Influenza_B', 'Rhinovirus_Enterovirus', 'Coronavirus_HKU1', 'Parainfluenza_4', 'Coronavirus229E', 'CoronavirusOC43', 'Inf_A_H1N1_2009', 'Influenza_B_rapid_test', 'detected']], scaled_y, scoring='accuracy', cv=cv, n_jobs=-1)\n",
    "print('Accuracy: %.3f (%.3f)' % (mean(scores), std(scores)))\n",
    "\n",
    "scores = cross_val_score(model, scaled_X[['Patient_age_quantile', 'Patient_addmited_to_regular_ward', 'Patient_addmited_to_semi_intensive_unit', 'Patient_addmited_to_intensive_care_unit', 'Platelets', 'Mean_platelet_volume', 'Mean_corpuscular_hemoglobin_concentration_MCHC', 'Leukocytes', 'Basophils', 'Mean_corpuscular_hemoglobin_MCH', 'Eosinophils', 'Mean_corpuscular_volume_MCV', 'Monocytes', 'Red_blood_cell_distribution_width_RDW', 'Respiratory_Syncytial_Virus', 'Influenza_B', 'Rhinovirus_Enterovirus', 'Coronavirus_HKU1', 'Parainfluenza_4', 'Coronavirus229E', 'CoronavirusOC43', 'Inf_A_H1N1_2009', 'Influenza_B_rapid_test', 'detected']], scaled_y, scoring='roc_auc', cv=cv, n_jobs=-1)\n",
    "print('AUC: %.3f (%.3f)' % (mean(scores), std(scores)))"
   ]
  },
  {
   "cell_type": "markdown",
   "id": "d894e333-c67a-4ead-8e04-5715f69a3e61",
   "metadata": {
    "tags": []
   },
   "source": [
    "## Bagging(using 極限隨機樹)"
   ]
  },
  {
   "cell_type": "code",
   "execution_count": 421,
   "id": "0eb04f18-7c2e-4c6d-a15d-3dd9a375806e",
   "metadata": {
    "tags": []
   },
   "outputs": [
    {
     "name": "stdout",
     "output_type": "stream",
     "text": [
      "Accuracy: 0.991 (0.012)\n",
      "AUC: 0.998 (0.010)\n"
     ]
    }
   ],
   "source": [
    "from sklearn.ensemble import ExtraTreesClassifier\n",
    "model = ExtraTreesClassifier(max_depth=None,min_samples_split=2, random_state=1)\n",
    "scores = cross_val_score(model, scaled_X, scaled_y, scoring='accuracy', cv=cv, n_jobs=-1)\n",
    "print('Accuracy: %.3f (%.3f)' % (mean(scores), std(scores)))\n",
    "\n",
    "scores = cross_val_score(model, scaled_X, scaled_y, scoring='roc_auc', cv=cv, n_jobs=-1)\n",
    "print('AUC: %.3f (%.3f)' % (mean(scores), std(scores)))"
   ]
  },
  {
   "cell_type": "code",
   "execution_count": 422,
   "id": "de9c7e52-bf60-40b5-a68d-27d469efc1e2",
   "metadata": {},
   "outputs": [
    {
     "name": "stdout",
     "output_type": "stream",
     "text": [
      "Accuracy: 0.990 (0.014)\n",
      "AUC: 0.998 (0.010)\n"
     ]
    }
   ],
   "source": [
    "model = ExtraTreesClassifier(max_depth=None,min_samples_split=2, random_state=0)\n",
    "scores = cross_val_score(model, scaled_X[['Patient_age_quantile', 'Patient_addmited_to_regular_ward', 'Patient_addmited_to_semi_intensive_unit', 'Patient_addmited_to_intensive_care_unit', 'Platelets', 'Mean_platelet_volume', 'Mean_corpuscular_hemoglobin_concentration_MCHC', 'Leukocytes', 'Basophils', 'Mean_corpuscular_hemoglobin_MCH', 'Eosinophils', 'Mean_corpuscular_volume_MCV', 'Monocytes', 'Red_blood_cell_distribution_width_RDW', 'Respiratory_Syncytial_Virus', 'Influenza_B', 'Rhinovirus_Enterovirus', 'Coronavirus_HKU1', 'Parainfluenza_4', 'Coronavirus229E', 'CoronavirusOC43', 'Inf_A_H1N1_2009', 'Influenza_B_rapid_test', 'detected']], scaled_y, scoring='accuracy', cv=cv, n_jobs=-1)\n",
    "print('Accuracy: %.3f (%.3f)' % (mean(scores), std(scores)))\n",
    "\n",
    "scores = cross_val_score(model, scaled_X[['Patient_age_quantile', 'Patient_addmited_to_regular_ward', 'Patient_addmited_to_semi_intensive_unit', 'Patient_addmited_to_intensive_care_unit', 'Platelets', 'Mean_platelet_volume', 'Mean_corpuscular_hemoglobin_concentration_MCHC', 'Leukocytes', 'Basophils', 'Mean_corpuscular_hemoglobin_MCH', 'Eosinophils', 'Mean_corpuscular_volume_MCV', 'Monocytes', 'Red_blood_cell_distribution_width_RDW', 'Respiratory_Syncytial_Virus', 'Influenza_B', 'Rhinovirus_Enterovirus', 'Coronavirus_HKU1', 'Parainfluenza_4', 'Coronavirus229E', 'CoronavirusOC43', 'Inf_A_H1N1_2009', 'Influenza_B_rapid_test', 'detected']], scaled_y, scoring='roc_auc', cv=cv, n_jobs=-1)\n",
    "print('AUC: %.3f (%.3f)' % (mean(scores), std(scores)))"
   ]
  },
  {
   "cell_type": "markdown",
   "id": "c1ad7718-403a-4eb8-b6df-372635aad889",
   "metadata": {},
   "source": [
    "## Knn"
   ]
  },
  {
   "cell_type": "code",
   "execution_count": 444,
   "id": "924e2290-e61a-4690-94fa-3641d5a62297",
   "metadata": {},
   "outputs": [
    {
     "name": "stdout",
     "output_type": "stream",
     "text": [
      "Accuracy: 0.986 (0.016)\n",
      "AUC: 0.991 (0.027)\n"
     ]
    }
   ],
   "source": [
    "from sklearn.neighbors import KNeighborsClassifier\n",
    "\n",
    "model = KNeighborsClassifier(n_neighbors=8)\n",
    "scores = cross_val_score(model, scaled_X, scaled_y, scoring='accuracy', cv=cv, n_jobs=-1)\n",
    "print('Accuracy: %.3f (%.3f)' % (mean(scores), std(scores)))\n",
    "\n",
    "scores = cross_val_score(model, scaled_X, scaled_y, scoring='roc_auc', cv=cv, n_jobs=-1)\n",
    "print('AUC: %.3f (%.3f)' % (mean(scores), std(scores)))"
   ]
  },
  {
   "cell_type": "code",
   "execution_count": 443,
   "id": "b841a689-9225-4232-8384-697e0c310300",
   "metadata": {},
   "outputs": [
    {
     "name": "stdout",
     "output_type": "stream",
     "text": [
      "Accuracy: 0.987 (0.014)\n",
      "AUC: 0.990 (0.026)\n"
     ]
    }
   ],
   "source": [
    "from sklearn.neighbors import KNeighborsClassifier\n",
    "\n",
    "model = KNeighborsClassifier(n_neighbors=8)\n",
    "scores = cross_val_score(model, scaled_X[['Patient_age_quantile', 'Patient_addmited_to_regular_ward', 'Patient_addmited_to_semi_intensive_unit', 'Patient_addmited_to_intensive_care_unit', 'Platelets', 'Mean_platelet_volume', 'Mean_corpuscular_hemoglobin_concentration_MCHC', 'Leukocytes', 'Basophils', 'Mean_corpuscular_hemoglobin_MCH', 'Eosinophils', 'Mean_corpuscular_volume_MCV', 'Monocytes', 'Red_blood_cell_distribution_width_RDW', 'Respiratory_Syncytial_Virus', 'Influenza_B', 'Rhinovirus_Enterovirus', 'Coronavirus_HKU1', 'Parainfluenza_4', 'Coronavirus229E', 'CoronavirusOC43', 'Inf_A_H1N1_2009', 'Influenza_B_rapid_test', 'detected']], scaled_y, scoring='accuracy', cv=cv, n_jobs=-1)\n",
    "print('Accuracy: %.3f (%.3f)' % (mean(scores), std(scores)))\n",
    "\n",
    "scores = cross_val_score(model, scaled_X[['Patient_age_quantile', 'Patient_addmited_to_regular_ward', 'Patient_addmited_to_semi_intensive_unit', 'Patient_addmited_to_intensive_care_unit', 'Platelets', 'Mean_platelet_volume', 'Mean_corpuscular_hemoglobin_concentration_MCHC', 'Leukocytes', 'Basophils', 'Mean_corpuscular_hemoglobin_MCH', 'Eosinophils', 'Mean_corpuscular_volume_MCV', 'Monocytes', 'Red_blood_cell_distribution_width_RDW', 'Respiratory_Syncytial_Virus', 'Influenza_B', 'Rhinovirus_Enterovirus', 'Coronavirus_HKU1', 'Parainfluenza_4', 'Coronavirus229E', 'CoronavirusOC43', 'Inf_A_H1N1_2009', 'Influenza_B_rapid_test', 'detected']], scaled_y, scoring='roc_auc', cv=cv, n_jobs=-1)\n",
    "print('AUC: %.3f (%.3f)' % (mean(scores), std(scores)))"
   ]
  },
  {
   "cell_type": "markdown",
   "id": "7504cb53-b735-479f-8ace-7a7498cd5488",
   "metadata": {},
   "source": [
    "## Adaboost"
   ]
  },
  {
   "cell_type": "code",
   "execution_count": 445,
   "id": "09450a7b-8e61-4660-ae3f-abaa51bdbda6",
   "metadata": {},
   "outputs": [
    {
     "name": "stdout",
     "output_type": "stream",
     "text": [
      "Accuracy: 0.984 (0.018)\n",
      "AUC: 0.992 (0.029)\n"
     ]
    }
   ],
   "source": [
    "from sklearn.ensemble import AdaBoostClassifier\n",
    "model = AdaBoostClassifier(random_state=1)\n",
    "\n",
    "scores = cross_val_score(model, scaled_X, scaled_y, scoring='accuracy', cv=cv, n_jobs=-1)\n",
    "print('Accuracy: %.3f (%.3f)' % (mean(scores), std(scores)))\n",
    "\n",
    "scores = cross_val_score(model, scaled_X, scaled_y, scoring='roc_auc', cv=cv, n_jobs=-1)\n",
    "print('AUC: %.3f (%.3f)' % (mean(scores), std(scores)))"
   ]
  },
  {
   "cell_type": "code",
   "execution_count": 446,
   "id": "ddedb8bd-9de8-4e1e-a898-841c21f423a4",
   "metadata": {},
   "outputs": [
    {
     "name": "stdout",
     "output_type": "stream",
     "text": [
      "Accuracy: 0.985 (0.018)\n",
      "AUC: 0.992 (0.029)\n"
     ]
    }
   ],
   "source": [
    "from sklearn.ensemble import AdaBoostClassifier\n",
    "model = AdaBoostClassifier(random_state=1)\n",
    "\n",
    "scores = cross_val_score(model, scaled_X[['Patient_age_quantile', 'Patient_addmited_to_regular_ward', 'Patient_addmited_to_semi_intensive_unit', 'Patient_addmited_to_intensive_care_unit', 'Platelets', 'Mean_platelet_volume', 'Mean_corpuscular_hemoglobin_concentration_MCHC', 'Leukocytes', 'Basophils', 'Mean_corpuscular_hemoglobin_MCH', 'Eosinophils', 'Mean_corpuscular_volume_MCV', 'Monocytes', 'Red_blood_cell_distribution_width_RDW', 'Respiratory_Syncytial_Virus', 'Influenza_B', 'Rhinovirus_Enterovirus', 'Coronavirus_HKU1', 'Parainfluenza_4', 'Coronavirus229E', 'CoronavirusOC43', 'Inf_A_H1N1_2009', 'Influenza_B_rapid_test', 'detected']], scaled_y, scoring='accuracy', cv=cv, n_jobs=-1)\n",
    "print('Accuracy: %.3f (%.3f)' % (mean(scores), std(scores)))\n",
    "\n",
    "scores = cross_val_score(model, scaled_X[['Patient_age_quantile', 'Patient_addmited_to_regular_ward', 'Patient_addmited_to_semi_intensive_unit', 'Patient_addmited_to_intensive_care_unit', 'Platelets', 'Mean_platelet_volume', 'Mean_corpuscular_hemoglobin_concentration_MCHC', 'Leukocytes', 'Basophils', 'Mean_corpuscular_hemoglobin_MCH', 'Eosinophils', 'Mean_corpuscular_volume_MCV', 'Monocytes', 'Red_blood_cell_distribution_width_RDW', 'Respiratory_Syncytial_Virus', 'Influenza_B', 'Rhinovirus_Enterovirus', 'Coronavirus_HKU1', 'Parainfluenza_4', 'Coronavirus229E', 'CoronavirusOC43', 'Inf_A_H1N1_2009', 'Influenza_B_rapid_test', 'detected']], scaled_y, scoring='roc_auc', cv=cv, n_jobs=-1)\n",
    "print('AUC: %.3f (%.3f)' % (mean(scores), std(scores)))"
   ]
  },
  {
   "cell_type": "markdown",
   "id": "b014e709-3b57-45a2-84a6-7500db346f46",
   "metadata": {},
   "source": [
    "## SVM"
   ]
  },
  {
   "cell_type": "code",
   "execution_count": 447,
   "id": "c9166d80-a115-457b-a66c-326134085374",
   "metadata": {},
   "outputs": [
    {
     "name": "stdout",
     "output_type": "stream",
     "text": [
      "Accuracy: 0.988 (0.014)\n",
      "AUC: 0.997 (0.015)\n"
     ]
    }
   ],
   "source": [
    "model = SVC(random_state=1)\n",
    "scores = cross_val_score(model, scaled_X, scaled_y, scoring='accuracy', cv=cv, n_jobs=-1)\n",
    "print('Accuracy: %.3f (%.3f)' % (mean(scores), std(scores)))\n",
    "\n",
    "scores = cross_val_score(model, scaled_X, scaled_y, scoring='roc_auc', cv=cv, n_jobs=-1)\n",
    "print('AUC: %.3f (%.3f)' % (mean(scores), std(scores)))"
   ]
  },
  {
   "cell_type": "code",
   "execution_count": 449,
   "id": "7f8ead12-7db7-4734-b6e9-2d1eaf60abf0",
   "metadata": {},
   "outputs": [
    {
     "name": "stdout",
     "output_type": "stream",
     "text": [
      "Accuracy: 0.990 (0.014)\n",
      "AUC: 0.997 (0.013)\n"
     ]
    }
   ],
   "source": [
    "model = SVC(random_state=1)\n",
    "scores = cross_val_score(model, scaled_X[['Patient_age_quantile', 'Patient_addmited_to_regular_ward', 'Patient_addmited_to_semi_intensive_unit', 'Patient_addmited_to_intensive_care_unit', 'Platelets', 'Mean_platelet_volume', 'Mean_corpuscular_hemoglobin_concentration_MCHC', 'Leukocytes', 'Basophils', 'Mean_corpuscular_hemoglobin_MCH', 'Eosinophils', 'Mean_corpuscular_volume_MCV', 'Monocytes', 'Red_blood_cell_distribution_width_RDW', 'Respiratory_Syncytial_Virus', 'Influenza_B', 'Rhinovirus_Enterovirus', 'Coronavirus_HKU1', 'Parainfluenza_4', 'Coronavirus229E', 'CoronavirusOC43', 'Inf_A_H1N1_2009', 'Influenza_B_rapid_test', 'detected']], scaled_y, scoring='accuracy', cv=cv, n_jobs=-1)\n",
    "print('Accuracy: %.3f (%.3f)' % (mean(scores), std(scores)))\n",
    "\n",
    "scores = cross_val_score(model, scaled_X[['Patient_age_quantile', 'Patient_addmited_to_regular_ward', 'Patient_addmited_to_semi_intensive_unit', 'Patient_addmited_to_intensive_care_unit', 'Platelets', 'Mean_platelet_volume', 'Mean_corpuscular_hemoglobin_concentration_MCHC', 'Leukocytes', 'Basophils', 'Mean_corpuscular_hemoglobin_MCH', 'Eosinophils', 'Mean_corpuscular_volume_MCV', 'Monocytes', 'Red_blood_cell_distribution_width_RDW', 'Respiratory_Syncytial_Virus', 'Influenza_B', 'Rhinovirus_Enterovirus', 'Coronavirus_HKU1', 'Parainfluenza_4', 'Coronavirus229E', 'CoronavirusOC43', 'Inf_A_H1N1_2009', 'Influenza_B_rapid_test', 'detected']], scaled_y, scoring='roc_auc', cv=cv, n_jobs=-1)\n",
    "print('AUC: %.3f (%.3f)' % (mean(scores), std(scores)))"
   ]
  }
 ],
 "metadata": {
  "kernelspec": {
   "display_name": "TF1",
   "language": "python",
   "name": "tf1"
  },
  "language_info": {
   "codemirror_mode": {
    "name": "ipython",
    "version": 3
   },
   "file_extension": ".py",
   "mimetype": "text/x-python",
   "name": "python",
   "nbconvert_exporter": "python",
   "pygments_lexer": "ipython3",
   "version": "3.6.12"
  },
  "toc-autonumbering": false,
  "toc-showcode": false,
  "toc-showmarkdowntxt": false,
  "toc-showtags": false
 },
 "nbformat": 4,
 "nbformat_minor": 5
}
